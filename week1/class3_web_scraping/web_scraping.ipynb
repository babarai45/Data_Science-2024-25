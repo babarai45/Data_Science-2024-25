{
 "cells": [
  {
   "cell_type": "code",
   "execution_count": null,
   "id": "6befdec8-9247-44f5-8856-d07e3b9d6d0b",
   "metadata": {},
   "outputs": [],
   "source": [
    "# web scraping "
   ]
  },
  {
   "cell_type": "code",
   "execution_count": 2,
   "id": "ff56075d",
   "metadata": {},
   "outputs": [
    {
     "ename": "ModuleNotFoundError",
     "evalue": "No module named 'bs4'",
     "output_type": "error",
     "traceback": [
      "\u001b[1;31m---------------------------------------------------------------------------\u001b[0m",
      "\u001b[1;31mModuleNotFoundError\u001b[0m                       Traceback (most recent call last)",
      "Cell \u001b[1;32mIn[2], line 2\u001b[0m\n\u001b[0;32m      1\u001b[0m \u001b[38;5;28;01mimport\u001b[39;00m \u001b[38;5;21;01mrequests\u001b[39;00m\n\u001b[1;32m----> 2\u001b[0m \u001b[38;5;28;01mfrom\u001b[39;00m \u001b[38;5;21;01mbs4\u001b[39;00m \u001b[38;5;28;01mimport\u001b[39;00m BeautifulSoup\n",
      "\u001b[1;31mModuleNotFoundError\u001b[0m: No module named 'bs4'"
     ]
    }
   ],
   "source": [
    "import requests\n",
    "from bs4 import BeautifulSoup\n",
    "\n",
    "url = 'https://www.nytimes.com/'\n",
    "r = requests.get(url)\n",
    "r_html = r.text\n",
    "\n",
    "soup = BeautifulSoup(r_html, 'html.parser')\n"
   ]
  },
  {
   "cell_type": "code",
   "execution_count": null,
   "id": "216e1915",
   "metadata": {},
   "outputs": [],
   "source": []
  },
  {
   "cell_type": "markdown",
   "id": "999d6afd",
   "metadata": {},
   "source": [
    "graph TD\n",
    "    A[Source Code<br>(hello.c)]:::source --> B[Preprocessor<br>(cpp)]:::process\n",
    "    B --> C[Preprocessed Code]:::file\n",
    "    C --> D[Compiler<br>(cc1)]:::process\n",
    "    D --> E[Assembly Code<br>(hello.s)]:::file\n",
    "    E --> F[Assembler<br>(as)]:::process\n",
    "    F --> G[Object Code<br>(hello.o)]:::file\n",
    "    G --> H[Linker<br>(ld)]:::process\n",
    "    H --> I[Executable<br>(a.out or hello)]:::executable\n",
    "\n",
    "    classDef source fill:#f9f,stroke:#333,stroke-width:2px,color:#000;\n",
    "    classDef process fill:#bbf,stroke:#333,stroke-width:2px,color:#000;\n",
    "    classDef file fill:#f96,stroke:#333,stroke-width:2px,color:#000;\n",
    "    classDef executable fill:#6f9,stroke:#333,stroke-width:2px,color:#000;"
   ]
  },
  {
   "cell_type": "markdown",
   "id": "8fb779cc",
   "metadata": {},
   "source": []
  }
 ],
 "metadata": {
  "kernelspec": {
   "display_name": "Python 3 (ipykernel)",
   "language": "python",
   "name": "python3"
  },
  "language_info": {
   "codemirror_mode": {
    "name": "ipython",
    "version": 3
   },
   "file_extension": ".py",
   "mimetype": "text/x-python",
   "name": "python",
   "nbconvert_exporter": "python",
   "pygments_lexer": "ipython3",
   "version": "3.12.1"
  }
 },
 "nbformat": 4,
 "nbformat_minor": 5
}
