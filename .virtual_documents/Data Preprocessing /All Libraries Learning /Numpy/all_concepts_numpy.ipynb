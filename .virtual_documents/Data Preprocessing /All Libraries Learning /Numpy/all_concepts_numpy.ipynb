





# import library of numpy 
import numpy  as  np
# to check versions 
print('Numpy version is ',np.__version__)


# Creating Numpy  arrays:
arr1 = np.array([2,4,5])
print(f'''this is a {arr1} and its shapes is {arr1.shape} and its dimenstaion is {arr1.ndim} and its size {arr1.size}
      and to  {arr1.argmax()} and {arr1.argmin()}
'''
      )


np.zeros([4,4])     # we can pass list and tuple to create zeros array 
# and we can not pass sets 
# np.zeros is used to when we want to create array of zeros and zeros iis used for initializations


np.ones([2,3]) 


emptyarry=np.empty([])




emptyarry


arr4 = np.empty((4, 2))
arr4





import numpy as np
np.linspace(2.0, 3.0, num=5)
np.linspace(2.0, 3.0, num=5, endpoint=False)
np.linspace(2.0, 3.0, num=5, retstep=True)


import matplotlib.pyplot as plt
N = 8
y = np.zeros(N)
x1 = np.linspace(0, 10, N, endpoint=True)
x2 = np.linspace(0, 10, N, endpoint=False)
plt.plot(x1, y, 'o')
plt.plot(x2, y + 0.5, 'o')
plt.ylim([-0.5, 1])
plt.show()


# Array of evenly spaced values is created using numpy linspace() function.
# The numpy linspace function returns numbers evenly spaced over a specified range. 
# For example, np.linspace(1, 10, 10) will return an array of 10 elements spaced evenly b
# etween 1 and 10. The numpy linspace function is similar to numpy arange function but instead 
# of step it uses sample number.

# numpy.linspace(start, stop, num=50, endpoint=True, retstep=False, dtype=None, axis=0)
# start : [optional] start of interval range. By default start = 0
# stop  : end of interval range 
# num   : [int, optional] No. of samples to generate 
# endpoint : [bool, optional] If True (default), stop is the last sample. Otherwise, it is not included.
# retstep : [bool, optional] If True, return (samples, step). By deflut False 
# dtype : type of output array 
# axis : The axis in the result to store the samples. Relevant only if start or stop are array-like. By default (0), the samples will be along a new axis inserted at the beginning. Use -1 to get an axis at the end.

# Return : ndarray
# Array of evenly spaced values means the difference between the consecutive elements is constant.
# The endpoint of the interval can optionally be excluded.

# Example 1: numpy.linspace() function
# In this example, we will create an array of 10 elements evenly spaced between 1 and 10.
import numpy as np
np.linspace(1, 10, num=10)
print(np.linspace(1, 10, 10))
print(np.linspace(1, 10, 10, endpoint=False))
print(np.linspace(1, 10, 10, retstep=True))
print(np.linspace(1, 10, 10, dtype=int))






# additiom of two arrays 
arr1 = np.array([2,4,5])
arr2 = np.array([2,4,5])
arr=arr1+arr2
print(arr)



# subtraction of two arrays
subarr=arr1-arr2
print(subarr)


# multiplication of two arrays
mularr=arr1*arr2
print(mularr)


arr1 = np.array([2,4,5,8,10])
arr2 = np.array([10,5,3,2,9])
# dot product of two arrays
dotarr=np.dot(arr1,arr2)   # 2*10+4*5+5*3+8*2+10*9 = 20+20+15+16+90 = 161 
print(dotarr) 


# division of two arrays
divarr=arr1/arr2
print(divarr)





# numpy array boolean indexing
# senario 1
arr1 = np.array([2,4,5,8,10])
arr2 = np.array([10,5,3,2,9])
print(arr1>arr2)  # 2>10, 4>5, 5>3, 8>2, 10>9 = False,False,True,True,True

# senario 
arr1 = np.array([2,4,5,8,10])
arr2 = np.array([10,5,3,2,9])
print(arr1[arr1>arr2])  # 2[2>10], 4[4>5], 5[5>3], 8[8>2], 10[10>9] = 5,8,10  it will return the values which are true

# senario 3
arr1 = np.array([2,4,5,8,10])
arr2 = np.array([10,5,3,2,9])
print(arr1[arr1<arr2])  # 2[2<10], 4[4<5], 5[5<3], 8[8<2], 10[10<9] = 2,4  it will return the values which are true

# senario 4
arr1 = np.array([2,4,5,8,10])
arr2 = np.array([10,5,3,2,9])
print(arr1[arr1==arr2])  # 2[2==10], 4[4==5], 5[5==3], 8[8==2], 10[10==9] = 0  it will return the values which are true

# senario 5 
arr1 = np.array([2,4,5,8,10])
arr2 = np.array([10,5,3,2,9])
print(arr1[arr1!=arr2])  # 2[2!=10], 4[4!=5], 5[5!=3], 8[8!=2], 10[10!=9] = 2,4,5,8,10  it will return the values which are true






# numpy array boolean masking
arr1 = np.array([2,4,5,8,10])
mask = arr1>5   # 2>5, 4>5, 5>5, 8>5, 10>5 = False,False,False,True,True
print(mask)  # [False False False  True  True] it will return the values which are true and false

# senario 2
arr1 = np.array([2,4,5,8,10])
mask = arr1>5   # 2>5, 4>5, 5>5, 8>5, 10>5 = False,False,False,True,True
print(arr1[mask])  # 8,10  it will return the values which are true 

# senario 3
arr1 = np.array([2,4,5,8,10])
mask = arr1<5   # 2<5, 4<5, 5<5, 8<5, 10<5 = True,True,False,False,False
print(arr1[mask])  # 2,4  it will return the values which are true

# senario 4
arr1 = np.array([2,4,5,8,10])
mask = arr1==5   # 2==5, 4==5, 5==5, 8==5, 10==5 = False,False,True,False,False
print(arr1[mask])  # 5  it will return the values which are true
















































































ex1= np.arange(10)
ex1
print(ex1)
ex2 = np.arange(2,10)








# np .save() and np.load() functions
# np.save() function is used to save the array in a disk file with .npy extension.
# np.load() function is used to load data from a .npy file.

# np.save() function
# numpy.save(file, arr, allow_pickle=True, fix_imports=True)  # save an array to a binary file in .npy format
# file : file name or file object  "baby.npy"
# arr : input array to save  ex1
# allow_pickle : Allow saving object arrays using Python pickles. Reasons for disallowing pickles include security, as loading pickles can execute arbitrary code. If pickles are disallowed, loading object arrays will fail. Default: True
# fix_imports : Only useful when loading Python 2 generated pickles on Python 3, which includes npy/npz files containing object arrays. If fix_imports is True, pickle will try to map the old Python 2 names to the new names used in Python 3. Default: True






val= [1,2,3,4,5]
# new_val= val+2
# print(new_val)
# so it mean we did not perform all mathematically and statially operation on list 

# using loop
new_value =[]
for i in val:
    new_value.append(i+2)
print(new_value)

# but alternatively and 50x fast way using mumpy 



import numpy as np
arr1 = np.array(val)
new_arr = arr1+2
print(new_arr)





# There are many arrays in Numpy arrays as compare to Pytho
# and Naumpy array is Homogenous (means at same we can pass data as same datatypes only)
# Example :
arr2 = np.array([1,2,2,3,4,5,6])  # it is same datatype like int  and its correct
arr3 = np.array([1,3,4,'ali',2.5, 4]) # it is difrent types and it  prints value but some issues it convert all int value into str while in python list it not convert 
py_list = [1,3,4,'ali',2.5, 4]
print(arr2)
print(arr3*2)  # it will show error because it is not same datatypes 


for i in arr3:          #  arr3 using numpy 
    print(type(i))
for l in py_list:       # list of python 
    print(type(l))
print(arr3.dtype)
print(arr3.dtype)


# in numpy array have lots of datatype like:
# [uint8, range is 0 to  255]


# Python : axis 0 means row wise and axis 1 means column wise
# Numpy : axis 0 means column wise and axis 1 means row wise
# Dask : axis 0 means row wise and axis 1 means column wise
# Pandas : axis 0 means row wise and axis 1 means column wise
# polars : axis 0 means row wise and axis 1 means column wise
# Matplotlib : axis 0 means row wise and axis 1 means column wise
# Scikit-learn : axis 0 means row wise and axis 1 means column wise
# TensorFlow : axis 0 means row wise and axis 1 means column wise
# Keras : axis 0 means row wise and axis 1 means column wise
# PyTorch : axis 0 means row wise and axis 1 means column wise
# Seaborn : axis 0 means row wise and axis 1 means column wise
# Statsmodels : axis 0 means row wise and axis 1 means column wise
# Scipy : axis 0 means row wise and axis 1 means column wise
# OpenCV : axis 0 means row wise and axis 1 means column wise
# Bokeh : axis 0 means row wise and axis 1 means column wise
# Plotly : axis 0 means row wise and axis 1 means column wise
# Dash : axis 0 means row wise and axis 1 means column wise








# here some examples 1D array
arr1 = np.array([1,2,3,4,5])
arr2 = np.array([6,7,8,9,10])

# now we will perform some operations on 1D array
# addition of two arrays 
addition = arr1+arr2
print(addition)

# subtraction of two arrays
subtraction = arr1-arr2
print(subtraction)

# multiplication of two arrays
multiplication = arr1*arr2
print(multiplication)

# division of two arrays
division = arr1/arr2
print(division)

# dot product of two arrays
dot_product = np.dot(arr1,arr2)
print("dot_product",dot_product)


# concatenation of two arrays
concatenation = np.concatenate((arr1,arr2))
print("concatenation",concatenation)

# 1d array creation using np.arange() function
new_arr = np.arange(10)
print(new_arr)

# numpy array boolean indexing
# senario 1
print(arr1>arr2)  # 1>6, 2>7, 3>8, 4>9, 5>10 = False,False,False,False,False

# senario 2
print(arr1[arr1>arr2])  # 1[1>6], 2[2>7], 3[3>8], 4[4>9], 5[5>10] = 0  it will return the values which are true

















# EXAMPLE 01 
a= np.arange(0,6).reshape(2,3)


a


# i want to sum by axix 0  = row wise 
suma = np.sum(a,axis=0)   # it sum by rows 
suma


# now i want sum by axis 1 = columns wise 
sumcolwise = np.sum(a, axis=1)
sumcolwise
























import numpy as np

# Define vertices of the object (e.g., a square)
vertices = np.array([
    [1, 1, 1],  # Point 1
    [1, 2, 1],  # Point 2
    [2, 2, 1],  # Point 3
    [2, 1, 1]   # Point 4
])

# Define the scaling matrix for zooming in (2x)
scaling_matrix = np.array([
    [2, 0, 0],
    [0, 2, 0],
    [0, 0, 1]
])

# Apply the scaling transformation
scaled_vertices = vertices @ scaling_matrix.T

print("Original Vertices:\n", vertices)
print("Scaled Vertices (Zoom In):\n", scaled_vertices)








import numpy as np
import matplotlib.pyplot as plt

# Function to plot the object
def plot(vertices, title, color='blue'):
    vertices = np.vstack([vertices, vertices[0]])  # Close the shape
    plt.plot(vertices[:, 0], vertices[:, 1], marker='o', color=color, label=title)
    plt.text(vertices[0, 0], vertices[0, 1], 'Start', fontsize=8, color='red')
    plt.grid()
    plt.title(title)
    plt.axis('equal')

# Original vertices of the shape (triangle)
vertices = np.array([
    [1, 1],  # Point A
    [1, 3],  # Point B
    [3, 1]   # Point C
])

# Transformation Matrices
scaling_matrix_zoom_in = np.array([
    [2, 0],
    [0, 2]
])

scaling_matrix_zoom_out = np.array([
    [0.5, 0],
    [0, 0.5]
])

reflection_matrix = np.array([
    [1, 0],
    [0, -1]
])

# Apply Zoom In
zoomed_in_vertices = vertices @ scaling_matrix_zoom_in.T

# Apply Zoom Out to the zoomed-in object
zoomed_out_vertices = zoomed_in_vertices @ scaling_matrix_zoom_out.T

# Apply Reflection to the zoomed-out object
reflected_vertices = zoomed_out_vertices @ reflection_matrix.T

# Plotting
plt.figure(figsize=(10, 6))

# Original Shape
plt.subplot(2, 2, 1)
plot(vertices, "Original Shape", color='blue')

# After Zoom In
plt.subplot(2, 2, 2)
plot(zoomed_in_vertices, "Zoom In (Scaled Up)", color='green')

# After Zoom Out
plt.subplot(2, 2, 3)
plot(zoomed_out_vertices, "Zoom Out (Scaled Down)", color='orange')

# After Reflection
plt.subplot(2, 2, 4)
plot(reflected_vertices, "Reflection (Flipped)", color='red')

plt.tight_layout()
plt.show()



import numpy as np
import matplotlib.pyplot as plt

# Create a dummy image as a matrix (grayscale values)
dummy_image = np.array([
    [50, 100, 150],
    [200, 250, 200],
    [150, 100, 50]
])

# Function to display an image
def display_image(image, title):
    plt.imshow(image, cmap='gray', vmin=0, vmax=255)
    plt.title(title)
    plt.axis('off')
    plt.colorbar()
    plt.show()

# Display original image
display_image(dummy_image, "Original Image")

# Transformation Matrices
# Scaling for Zoom In
zoom_in_matrix = np.array([
    [2, 0],
    [0, 2]
])

# Scaling for Zoom Out
zoom_out_matrix = np.array([
    [0.5, 0],
    [0, 0.5]
])

# Reflection matrix (flip over x-axis)
reflection_matrix = np.array([
    [1, 0],
    [0, -1]
])

# Zoom In: Repeat pixels to simulate zoom in
zoom_in_image = np.kron(dummy_image, np.ones((2, 2)))

# Zoom Out: Downscale by averaging neighboring pixels
zoom_out_image = zoom_in_image[::2, ::2]

# Reflection: Flip the image vertically
reflected_image = np.flipud(zoom_out_image)

# Display transformations
display_image(zoom_in_image, "Zoom In (Enlarged)")
display_image(zoom_out_image, "Zoom Out (Reduced)")
display_image(reflected_image, "Reflected Image (Flipped Vertically)")






# Create a simple shape (square) as a matrix
# Representing a 5x5 grid with a square (value 255) in the center
square_image = np.array([
    [0, 0, 0, 0, 0],
    [0, 255, 255, 255, 0],
    [0, 255, 255, 255, 0],
    [0, 255, 255, 255, 0],
    [0, 0, 0, 0, 0]
])

# Function to display the shape matrix as an image
def display_shape(image, title):
    plt.imshow(image, cmap='gray', vmin=0, vmax=255)
    plt.title(title)
    plt.axis('off')
    plt.show()

# Display original square shape
display_shape(square_image, "Original Square Shape")

# Transformation 1: Zoom In (enlarge the square)
zoom_in_shape = np.kron(square_image, np.ones((2, 2)))

# Transformation 2: Zoom Out (reduce the size of the zoomed-in square)
zoom_out_shape = zoom_in_shape[::2, ::2]

# Transformation 3: Reflection (flip the reduced square vertically)
reflected_shape = np.flipud(zoom_out_shape)

# Display transformations
display_shape(zoom_in_shape, "Zoom In (Enlarged Square)")
display_shape(zoom_out_shape, "Zoom Out (Reduced Square)")
display_shape(reflected_shape, "Reflected Square (Flipped Vertically)")






# Create an enhanced square with color-coded intensity levels for clear differentiation
colored_square = np.array([
    [0, 0, 0, 0, 0],
    [0, 50, 100, 50, 0],
    [0, 100, 200, 100, 0],
    [0, 50, 100, 50, 0],
    [0, 0, 0, 0, 0]
])

# Function to display the shape matrix as a colored image
def display_colored_shape(image, title):
    plt.imshow(image, cmap='viridis', vmin=0, vmax=255)
    plt.title(title)
    plt.axis('off')
    plt.colorbar(label="Intensity")
    plt.show()

# Display the original square with color
display_colored_shape(colored_square, "Original Colored Square")

# Transformation 1: Zoom In (enlarge the square)
zoom_in_colored = np.kron(colored_square, np.ones((3, 3)))

# Transformation 2: Zoom Out (reduce size of the zoomed-in square)
zoom_out_colored = zoom_in_colored[::3, ::3]

# Transformation 3: Reflection (flip the reduced square vertically)
reflected_colored = np.flipud(zoom_out_colored)

# Display each transformation with color-coded intensity
display_colored_shape(zoom_in_colored, "Zoom In (Enlarged Colored Square)")
display_colored_shape(zoom_out_colored, "Zoom Out (Reduced Colored Square)")
display_colored_shape(reflected_colored, "Reflected Colored Square (Flipped Vertically)")









import matplotlib.pyplot as plt
import numpy as np

# Create a 2D matrix (adjust values as needed)
matrix = np.array([
    [88, 19, 46, 74, 94],
    [69, 79, 26, 7, 29],
    [21, 45, 12, 80, 72],
    [28, 53, 65, 26, 64],
    [71, 96, 34, 61, 52]
])

# Visualize the matrix
plt.imshow(matrix, cmap='viridis', interpolation='nearest')
plt.colorbar()
plt.title('2D Matrix Visualization')
plt.xlabel('Second Index')
plt.ylabel('First Index')
plt.xticks(np.arange(len(matrix[0])), np.arange(1, len(matrix[0]) + 1))
plt.yticks(np.arange(len(matrix)), np.arange(1, len(matrix) + 1))

# Annotate each cell with its value
for i in range(len(matrix)):
    for j in range(len(matrix[0])):
        plt.text(j, i, str(matrix[i, j]), color='black', ha='center', va='center')

plt.show()








import numpy as np
import matplotlib.pyplot as plt

class GraphicsTransformations:
    def __init__(self):
        """Initialize the transformation class with visualization methods"""
        plt.rcParams['figure.figsize'] = (10, 5)
    
    def create_polygon(self):
        """Create a sample polygon for transformations"""
        return np.array([
            [0, 0],   # Bottom-left
            [2, 0],   # Bottom-right
            [2, 2],   # Top-right
            [0, 2]    # Top-left
        ])
    
    def plot_transformation(self, original, transformed, title):
        """Visualize original and transformed polygons"""
        plt.figure()
        
        # Original polygon
        plt.subplot(121)
        plt.title('Original Polygon')
        plt.plot(original[:, 0], original[:, 1], 'b-', linewidth=2, label='Original')
        plt.fill(original[:, 0], original[:, 1], alpha=0.3, color='blue')
        plt.axis('equal')
        plt.grid(True)
        
        # Transformed polygon
        plt.subplot(122)
        plt.title(title)
        plt.plot(transformed[:, 0], transformed[:, 1], 'r-', linewidth=2, label='Transformed')
        plt.fill(transformed[:, 0], transformed[:, 1], alpha=0.3, color='red')
        plt.axis('equal')
        plt.grid(True)
        
        plt.tight_layout()
        plt.show()
    
    def scaling_transformation(self, scale_x=2, scale_y=2):
        """
        Demonstrate scaling transformation
        
        Scaling Matrix:
        [ sx  0   0 ]
        [ 0   sy  0 ]
        [ 0   0   1 ]
        """
        # Create original polygon
        polygon = self.create_polygon()
        
        # Homogeneous coordinates
        homogeneous_polygon = np.column_stack([polygon, np.ones(len(polygon))])
        
        # Scaling matrix
        scaling_matrix = np.array([
            [scale_x, 0, 0],
            [0, scale_y, 0],
            [0, 0, 1]
        ])
        
        # Apply transformation
        transformed_polygon = (scaling_matrix @ homogeneous_polygon.T).T[:, :2]
        
        # Visualization and proof
        print("Original Polygon:")
        print(polygon)
        print("\nScaling Matrix:")
        print(scaling_matrix)
        print("\nTransformed Polygon:")
        print(transformed_polygon)
        
        # Proof of scaling properties
        original_distances = np.diff(polygon, axis=0)
        transformed_distances = np.diff(transformed_polygon, axis=0)
        
        print("\nProof of Scaling:")
        print("Original Edge Lengths:", np.linalg.norm(original_distances, axis=1))
        print("Transformed Edge Lengths:", np.linalg.norm(transformed_distances, axis=1))
        
        # Visualization
        self.plot_transformation(polygon, transformed_polygon, f'Scaled by ({scale_x}, {scale_y})')
        
        return transformed_polygon
    
    def reflection_transformation(self, reflect_x=True, reflect_y=False):
        """
        Demonstrate reflection transformation
        
        X-axis Reflection Matrix:
        [ 1   0   0 ]
        [ 0  -1   0 ]
        [ 0   0   1 ]
        
        Y-axis Reflection Matrix:
        [-1   0   0 ]
        [ 0   1   0 ]
        [ 0   0   1 ]
        """
        # Create original polygon
        polygon = self.create_polygon()
        
        # Homogeneous coordinates
        homogeneous_polygon = np.column_stack([polygon, np.ones(len(polygon))])
        
        # Reflection matrix
        if reflect_x:
            reflection_matrix = np.array([
                [1, 0, 0],
                [0, -1, 0],
                [0, 0, 1]
            ])
            title = 'X-axis Reflection'
        else:
            reflection_matrix = np.array([
                [-1, 0, 0],
                [0, 1, 0],
                [0, 0, 1]
            ])
            title = 'Y-axis Reflection'
        
        # Apply transformation
        transformed_polygon = (reflection_matrix @ homogeneous_polygon.T).T[:, :2]
        
        # Visualization and proof
        print("Original Polygon:")
        print(polygon)
        print("\nReflection Matrix:")
        print(reflection_matrix)
        print("\nTransformed Polygon:")
        print(transformed_polygon)
        
        # Proof of reflection properties
        print("\nProof of Reflection:")
        print("Original Polygon Area:", np.abs(np.linalg.det(polygon)))
        print("Transformed Polygon Area:", np.abs(np.linalg.det(transformed_polygon)))
        
        # Visualization
        self.plot_transformation(polygon, transformed_polygon, title)
        
        return transformed_polygon
    
    def combined_transformation(self):
        """
        Demonstrate combined scaling and reflection transformation
        """
        # Create original polygon
        polygon = self.create_polygon()
        
        # Homogeneous coordinates
        homogeneous_polygon = np.column_stack([polygon, np.ones(len(polygon))])
        
        # Combined transformation matrices
        scaling_matrix = np.array([
            [2, 0, 0],
            [0, 2, 0],
            [0, 0, 1]
        ])
        
        reflection_matrix = np.array([
            [1, 0, 0],
            [0, -1, 0],
            [0, 0, 1]
        ])
        
        # Combined transformation (right-to-left application)
        combined_matrix = reflection_matrix @ scaling_matrix
        
        # Apply transformation
        transformed_polygon = (combined_matrix @ homogeneous_polygon.T).T[:, :2]
        
        # Visualization and proof
        print("Combined Transformation Matrix:")
        print(combined_matrix)
        
        # Visualization
        self.plot_transformation(polygon, transformed_polygon, 'Scale & Reflect')
        
        return transformed_polygon

# Demonstration
graphics = GraphicsTransformations()

print("\n1. SCALING TRANSFORMATION")
graphics.scaling_transformation(scale_x=2, scale_y=2)

print("\n\n2. X-AXIS REFLECTION")
graphics.reflection_transformation(reflect_x=True)

print("\n\n3. COMBINED TRANSFORMATION")
graphics.combined_transformation()



