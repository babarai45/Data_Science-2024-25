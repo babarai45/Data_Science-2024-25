{
 "cells": [
  {
   "cell_type": "markdown",
   "id": "cc0b334a65f6c1e8",
   "metadata": {},
   "source": [
    "# All Basic Pandas  Part-1 "
   ]
  },
  {
   "cell_type": "code",
   "execution_count": 1,
   "id": "8b3ba813ea3ee582",
   "metadata": {
    "ExecuteTime": {
     "end_time": "2024-11-18T04:43:20.845942Z",
     "start_time": "2024-11-18T04:43:19.597227Z"
    }
   },
   "outputs": [],
   "source": [
    "import  pandas as pd"
   ]
  },
  {
   "cell_type": "code",
   "execution_count": 3,
   "id": "3257aebf7f44a912",
   "metadata": {},
   "outputs": [
    {
     "data": {
      "text/plain": [
       "'verion of pandas is 2.2.2'"
      ]
     },
     "execution_count": 3,
     "metadata": {},
     "output_type": "execute_result"
    }
   ],
   "source": [
    "# to check version of pandas \n",
    "f'verion of pandas is {pd.__version__}'"
   ]
  },
  {
   "cell_type": "code",
   "execution_count": 11,
   "id": "b7711a86-1fb8-4a27-9778-0191c658a61e",
   "metadata": {},
   "outputs": [],
   "source": [
    "# creating array using pandas\n",
    "arr1 = pd.array([1,2,3,4])"
   ]
  },
  {
   "cell_type": "code",
   "execution_count": 6,
   "id": "bf7893bb-6797-42d0-b825-2ee1a01cbe73",
   "metadata": {},
   "outputs": [
    {
     "data": {
      "text/plain": [
       "<IntegerArray>\n",
       "[1, 2, 3, 4]\n",
       "Length: 4, dtype: Int64"
      ]
     },
     "execution_count": 6,
     "metadata": {},
     "output_type": "execute_result"
    }
   ],
   "source": [
    "arr1"
   ]
  },
  {
   "cell_type": "code",
   "execution_count": 13,
   "id": "8d381856-1eac-42ef-86e7-86384526229e",
   "metadata": {},
   "outputs": [
    {
     "name": "stdout",
     "output_type": "stream",
     "text": [
      "type of array is  <class 'pandas.core.arrays.integer.IntegerArray'>\n"
     ]
    }
   ],
   "source": [
    "print('type of array is ',type(arr1))"
   ]
  },
  {
   "cell_type": "code",
   "execution_count": null,
   "id": "2d596097-0ffc-4679-b234-97abb7793e69",
   "metadata": {},
   "outputs": [],
   "source": []
  },
  {
   "cell_type": "code",
   "execution_count": null,
   "id": "fc1f8f3c-d1d3-4a6a-8b17-d8de79e01881",
   "metadata": {},
   "outputs": [],
   "source": []
  },
  {
   "cell_type": "code",
   "execution_count": null,
   "id": "79332ca4-a303-49e1-af6d-cb2976efaef3",
   "metadata": {},
   "outputs": [],
   "source": []
  }
 ],
 "metadata": {
  "kernelspec": {
   "display_name": "Python 3 (ipykernel)",
   "language": "python",
   "name": "python3"
  },
  "language_info": {
   "codemirror_mode": {
    "name": "ipython",
    "version": 3
   },
   "file_extension": ".py",
   "mimetype": "text/x-python",
   "name": "python",
   "nbconvert_exporter": "python",
   "pygments_lexer": "ipython3",
   "version": "3.12.4"
  }
 },
 "nbformat": 4,
 "nbformat_minor": 5
}
