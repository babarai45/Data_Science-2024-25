{
 "cells": [
  {
   "metadata": {},
   "cell_type": "markdown",
   "source": "# All Basic Pandas  Part-1 ",
   "id": "cc0b334a65f6c1e8"
  },
  {
   "metadata": {
    "ExecuteTime": {
     "end_time": "2024-11-18T04:43:20.845942Z",
     "start_time": "2024-11-18T04:43:19.597227Z"
    }
   },
   "cell_type": "code",
   "source": "import  pandas as pd",
   "id": "8b3ba813ea3ee582",
   "outputs": [],
   "execution_count": 1
  },
  {
   "metadata": {},
   "cell_type": "code",
   "outputs": [],
   "execution_count": null,
   "source": "",
   "id": "3257aebf7f44a912"
  }
 ],
 "metadata": {
  "kernelspec": {
   "display_name": "Python 3",
   "language": "python",
   "name": "python3"
  },
  "language_info": {
   "codemirror_mode": {
    "name": "ipython",
    "version": 2
   },
   "file_extension": ".py",
   "mimetype": "text/x-python",
   "name": "python",
   "nbconvert_exporter": "python",
   "pygments_lexer": "ipython2",
   "version": "2.7.6"
  }
 },
 "nbformat": 4,
 "nbformat_minor": 5
}
