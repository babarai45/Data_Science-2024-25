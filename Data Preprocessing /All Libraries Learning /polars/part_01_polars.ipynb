{
 "cells": [
  {
   "cell_type": "markdown",
   "id": "c215bef7e9fdb02f",
   "metadata": {},
   "source": [
    "# PAll Basic  Polars  Part-1 "
   ]
  },
  {
   "cell_type": "code",
   "execution_count": 2,
   "id": "initial_id",
   "metadata": {
    "ExecuteTime": {
     "end_time": "2024-11-18T05:03:15.968266Z",
     "start_time": "2024-11-18T05:03:15.700733Z"
    }
   },
   "outputs": [],
   "source": [
    "import polars as pl"
   ]
  },
  {
   "cell_type": "code",
   "execution_count": 3,
   "id": "59e0dec11be27b29",
   "metadata": {},
   "outputs": [
    {
     "name": "stdout",
     "output_type": "stream",
     "text": [
      "The Version of Polar is  1.14.0\n"
     ]
    }
   ],
   "source": [
    "# to check polar verions \n",
    "print(\"The Version of Polar is \", pl.__version__)"
   ]
  },
  {
   "cell_type": "code",
   "execution_count": 6,
   "id": "dc73c7a9-e368-4564-823f-ed3e8d4aa95e",
   "metadata": {},
   "outputs": [
    {
     "name": "stdout",
     "output_type": "stream",
     "text": [
      "shape: (5,)\n",
      "Series: '' [i64]\n",
      "[\n",
      "\t1\n",
      "\t2\n",
      "\t3\n",
      "\t4\n",
      "\t5\n",
      "]\n"
     ]
    }
   ],
   "source": [
    "# creating a series using polars\n",
    "series = pl.Series([1, 2, 3, 4, 5])\n",
    "print(series)"
   ]
  },
  {
   "cell_type": "code",
   "execution_count": null,
   "id": "3be10920-f3d4-4042-bece-96ef3d9e9a4a",
   "metadata": {},
   "outputs": [],
   "source": []
  }
 ],
 "metadata": {
  "kernelspec": {
   "display_name": "base",
   "language": "python",
   "name": "python3"
  },
  "language_info": {
   "codemirror_mode": {
    "name": "ipython",
    "version": 3
   },
   "file_extension": ".py",
   "mimetype": "text/x-python",
   "name": "python",
   "nbconvert_exporter": "python",
   "pygments_lexer": "ipython3",
   "version": "3.12.4"
  }
 },
 "nbformat": 4,
 "nbformat_minor": 5
}
