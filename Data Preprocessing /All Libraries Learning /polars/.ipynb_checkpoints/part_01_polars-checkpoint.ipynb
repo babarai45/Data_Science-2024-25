{
 "cells": [
  {
   "metadata": {},
   "cell_type": "markdown",
   "source": "# PAll Basic  Polars  Part-1 ",
   "id": "c215bef7e9fdb02f"
  },
  {
   "cell_type": "code",
   "id": "initial_id",
   "metadata": {
    "collapsed": true,
    "ExecuteTime": {
     "end_time": "2024-11-18T05:03:15.968266Z",
     "start_time": "2024-11-18T05:03:15.700733Z"
    }
   },
   "source": "import polars as pl",
   "outputs": [],
   "execution_count": 1
  },
  {
   "metadata": {},
   "cell_type": "code",
   "outputs": [],
   "execution_count": null,
   "source": "",
   "id": "59e0dec11be27b29"
  }
 ],
 "metadata": {
  "kernelspec": {
   "display_name": "Python 3",
   "language": "python",
   "name": "python3"
  },
  "language_info": {
   "codemirror_mode": {
    "name": "ipython",
    "version": 2
   },
   "file_extension": ".py",
   "mimetype": "text/x-python",
   "name": "python",
   "nbconvert_exporter": "python",
   "pygments_lexer": "ipython2",
   "version": "2.7.6"
  }
 },
 "nbformat": 4,
 "nbformat_minor": 5
}
