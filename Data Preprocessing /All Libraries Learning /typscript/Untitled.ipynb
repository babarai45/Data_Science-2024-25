{
 "cells": [
  {
   "cell_type": "markdown",
   "id": "3c1633ff-94bd-4c24-8ec0-b41a33c43388",
   "metadata": {
    "editable": true,
    "slideshow": {
     "slide_type": ""
    },
    "tags": []
   },
   "source": [
    "# Rust "
   ]
  },
  {
   "cell_type": "code",
   "execution_count": 1,
   "id": "4e03b3e0-1ce3-40cc-9f38-666596c4832a",
   "metadata": {},
   "outputs": [
    {
     "name": "stdout",
     "output_type": "stream",
     "text": [
      "[ \u001b[33m1\u001b[39m, \u001b[33m2\u001b[39m, \u001b[33m3\u001b[39m, \u001b[33m4\u001b[39m, \u001b[33m5\u001b[39m ]\n"
     ]
    }
   ],
   "source": [
    "// create an array in javascript\n",
    "let arr = [1, 2, 3, 4, 5];\n",
    "\n",
    "// log the array to the console\n",
    "console.log(arr);"
   ]
  },
  {
   "cell_type": "code",
   "execution_count": 2,
   "id": "ff0316c4-3903-4d0c-9d81-4533c37b354b",
   "metadata": {
    "editable": true,
    "slideshow": {
     "slide_type": ""
    },
    "tags": []
   },
   "outputs": [
    {
     "name": "stderr",
     "output_type": "stream",
     "text": [
      "1:10 - ',' expected.\n"
     ]
    }
   ],
   "source": [
    "let num  number = 5;"
   ]
  },
  {
   "cell_type": "code",
   "execution_count": null,
   "id": "32945b03-86ed-4bbc-9499-4c114e348645",
   "metadata": {},
   "outputs": [],
   "source": []
  }
 ],
 "metadata": {
  "kernelspec": {
   "display_name": "TypeScript",
   "language": "typescript",
   "name": "tslab"
  },
  "language_info": {
   "codemirror_mode": {
    "mode": "typescript",
    "name": "javascript",
    "typescript": true
   },
   "file_extension": ".ts",
   "mimetype": "text/typescript",
   "name": "typescript",
   "version": "3.7.2"
  }
 },
 "nbformat": 4,
 "nbformat_minor": 5
}
