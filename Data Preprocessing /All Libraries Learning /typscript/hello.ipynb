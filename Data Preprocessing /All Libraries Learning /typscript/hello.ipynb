{
 "cells": [
  {
   "cell_type": "code",
   "metadata": {
    "ExecuteTime": {
     "end_time": "2024-11-29T05:32:30.463Z",
     "start_time": "2024-11-29T05:32:30.463Z"
    }
   },
   "source": [
    "console.log('Hello, World!');"
   ],
   "outputs": [
    {
     "name": "stdout",
     "output_type": "stream",
     "text": [
      "Hello, World!\n"
     ]
    }
   ],
   "execution_count": 2
  },
  {
   "cell_type": "code",
   "metadata": {
    "ExecuteTime": {
     "end_time": "2024-11-29T05:32:31.268Z",
     "start_time": "2024-11-29T05:32:31.267Z"
    }
   },
   "source": [
    "// Language: typescript (deno)\n",
    "console.log('Hello, World!');"
   ],
   "outputs": [
    {
     "name": "stdout",
     "output_type": "stream",
     "text": [
      "Hello, World!\n"
     ]
    }
   ],
   "execution_count": 3
  },
  {
   "cell_type": "code",
   "metadata": {
    "ExecuteTime": {
     "end_time": "2024-11-29T05:32:32.088Z",
     "start_time": "2024-11-29T05:32:32.088Z"
    }
   },
   "source": [
    "// take user input as number and print table of that number using typescript\n",
    "const num: number = parseInt(prompt('Enter a number: '));\n",
    "for (let i = 1; i <= 10; i++) {\n",
    "    console.log(`${num} * ${i} = ${num * i}`);\n",
    "}"
   ],
   "outputs": [
    {
     "name": "stderr",
     "output_type": "stream",
     "text": [
      "2:30 - Cannot find name 'prompt'.\n"
     ]
    }
   ],
   "execution_count": 4
  },
  {
   "cell_type": "code",
   "execution_count": null,
   "metadata": {},
   "outputs": [],
   "source": []
  }
 ],
 "metadata": {
  "kernelspec": {
   "display_name": "TypeScript",
   "language": "typescript",
   "name": "tslab"
  },
  "language_info": {
   "codemirror_mode": {
    "mode": "typescript",
    "name": "javascript",
    "typescript": true
   },
   "file_extension": ".ts",
   "mimetype": "text/typescript",
   "name": "typescript",
   "version": "3.7.2"
  }
 },
 "nbformat": 4,
 "nbformat_minor": 2
}
