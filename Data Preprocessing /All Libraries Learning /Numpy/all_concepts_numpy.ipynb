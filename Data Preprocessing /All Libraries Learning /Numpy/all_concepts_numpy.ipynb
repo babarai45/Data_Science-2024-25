{
 "cells": [
  {
   "cell_type": "markdown",
   "metadata": {},
   "source": [
    "# All Concepts of Numpy "
   ]
  },
  {
   "cell_type": "markdown",
   "metadata": {},
   "source": []
  },
  {
   "cell_type": "code",
   "execution_count": 1,
   "metadata": {
    "ExecuteTime": {
     "end_time": "2024-11-18T04:48:37.825810Z",
     "start_time": "2024-11-18T04:48:37.749814Z"
    }
   },
   "outputs": [
    {
     "name": "stdout",
     "output_type": "stream",
     "text": [
      "Numpy version is  1.26.4\n"
     ]
    }
   ],
   "source": [
    "# import library of numpy \n",
    "import numpy  as  np\n",
    "# to check versions \n",
    "print('Numpy version is ',np.__version__)"
   ]
  },
  {
   "cell_type": "code",
   "execution_count": 2,
   "metadata": {},
   "outputs": [
    {
     "name": "stdout",
     "output_type": "stream",
     "text": [
      "this is a [2 4 5] and its shapes is (3,) and its dimenstaion is 1 and its size 3\n",
      "      and to  2 and 0\n",
      "\n"
     ]
    }
   ],
   "source": [
    "# Creating Numpy  arrays:\n",
    "arr1 = np.array([2,4,5])\n",
    "print(f'''this is a {arr1} and its shapes is {arr1.shape} and its dimenstaion is {arr1.ndim} and its size {arr1.size}\n",
    "      and to  {arr1.argmax()} and {arr1.argmin()}\n",
    "'''\n",
    "      )"
   ]
  },
  {
   "cell_type": "code",
   "execution_count": 3,
   "metadata": {},
   "outputs": [
    {
     "data": {
      "text/plain": [
       "array([[0., 0., 0., 0.],\n",
       "       [0., 0., 0., 0.],\n",
       "       [0., 0., 0., 0.],\n",
       "       [0., 0., 0., 0.]])"
      ]
     },
     "execution_count": 3,
     "metadata": {},
     "output_type": "execute_result"
    }
   ],
   "source": [
    "np.zeros([4,4])     # we can pass list and tuple to create zeros array \n",
    "# and we can not pass sets \n",
    "# np.zeros is used to when we want to create array of zeros and zeros iis used for initializations"
   ]
  },
  {
   "cell_type": "code",
   "execution_count": 4,
   "metadata": {},
   "outputs": [
    {
     "data": {
      "text/plain": [
       "array([[1., 1., 1.],\n",
       "       [1., 1., 1.]])"
      ]
     },
     "execution_count": 4,
     "metadata": {},
     "output_type": "execute_result"
    }
   ],
   "source": [
    "np.ones([2,3]) "
   ]
  },
  {
   "cell_type": "code",
   "execution_count": 5,
   "metadata": {},
   "outputs": [],
   "source": [
    "emptyarry=np.empty([])\n",
    "\n"
   ]
  },
  {
   "cell_type": "code",
   "execution_count": 6,
   "metadata": {},
   "outputs": [
    {
     "data": {
      "text/plain": [
       "array(1.)"
      ]
     },
     "execution_count": 6,
     "metadata": {},
     "output_type": "execute_result"
    }
   ],
   "source": [
    "emptyarry"
   ]
  },
  {
   "cell_type": "code",
   "execution_count": 7,
   "metadata": {},
   "outputs": [
    {
     "data": {
      "text/plain": [
       "array([[2.87412877e-316, 0.00000000e+000],\n",
       "       [0.00000000e+000, 0.00000000e+000],\n",
       "       [0.00000000e+000, 0.00000000e+000],\n",
       "       [0.00000000e+000, 0.00000000e+000]])"
      ]
     },
     "execution_count": 7,
     "metadata": {},
     "output_type": "execute_result"
    }
   ],
   "source": [
    "arr4 = np.empty((4, 2))\n",
    "arr4"
   ]
  },
  {
   "cell_type": "code",
   "execution_count": null,
   "metadata": {},
   "outputs": [],
   "source": []
  },
  {
   "cell_type": "code",
   "execution_count": 8,
   "metadata": {},
   "outputs": [
    {
     "data": {
      "text/plain": [
       "(array([2.  , 2.25, 2.5 , 2.75, 3.  ]), 0.25)"
      ]
     },
     "execution_count": 8,
     "metadata": {},
     "output_type": "execute_result"
    }
   ],
   "source": [
    "import numpy as np\n",
    "np.linspace(2.0, 3.0, num=5)\n",
    "np.linspace(2.0, 3.0, num=5, endpoint=False)\n",
    "np.linspace(2.0, 3.0, num=5, retstep=True)"
   ]
  },
  {
   "cell_type": "code",
   "execution_count": 9,
   "metadata": {},
   "outputs": [
    {
     "data": {
      "image/png": "[encoded data removed]",
      "text/plain": [
       "<Figure size 640x480 with 1 Axes>"
      ]
     },
     "metadata": {},
     "output_type": "display_data"
    }
   ],
   "source": [
    "import matplotlib.pyplot as plt\n",
    "N = 8\n",
    "y = np.zeros(N)\n",
    "x1 = np.linspace(0, 10, N, endpoint=True)\n",
    "x2 = np.linspace(0, 10, N, endpoint=False)\n",
    "plt.plot(x1, y, 'o')\n",
    "plt.plot(x2, y + 0.5, 'o')\n",
    "plt.ylim([-0.5, 1])\n",
    "plt.show()"
   ]
  },
  {
   "cell_type": "code",
   "execution_count": 10,
   "metadata": {},
   "outputs": [
    {
     "name": "stdout",
     "output_type": "stream",
     "text": [
      "[ 1.  2.  3.  4.  5.  6.  7.  8.  9. 10.]\n",
      "[1.  1.9 2.8 3.7 4.6 5.5 6.4 7.3 8.2 9.1]\n",
      "(array([ 1.,  2.,  3.,  4.,  5.,  6.,  7.,  8.,  9., 10.]), 1.0)\n",
      "[ 1  2  3  4  5  6  7  8  9 10]\n"
     ]
    }
   ],
   "source": [
    "# Array of evenly spaced values is created using numpy linspace() function.\n",
    "# The numpy linspace function returns numbers evenly spaced over a specified range. \n",
    "# For example, np.linspace(1, 10, 10) will return an array of 10 elements spaced evenly b\n",
    "# etween 1 and 10. The numpy linspace function is similar to numpy arange function but instead \n",
    "# of step it uses sample number.\n",
    "\n",
    "# numpy.linspace(start, stop, num=50, endpoint=True, retstep=False, dtype=None, axis=0)\n",
    "# start : [optional] start of interval range. By default start = 0\n",
    "# stop  : end of interval range \n",
    "# num   : [int, optional] No. of samples to generate \n",
    "# endpoint : [bool, optional] If True (default), stop is the last sample. Otherwise, it is not included.\n",
    "# retstep : [bool, optional] If True, return (samples, step). By deflut False \n",
    "# dtype : type of output array \n",
    "# axis : The axis in the result to store the samples. Relevant only if start or stop are array-like. By default (0), the samples will be along a new axis inserted at the beginning. Use -1 to get an axis at the end.\n",
    "\n",
    "# Return : ndarray\n",
    "# Array of evenly spaced values means the difference between the consecutive elements is constant.\n",
    "# The endpoint of the interval can optionally be excluded.\n",
    "\n",
    "# Example 1: numpy.linspace() function\n",
    "# In this example, we will create an array of 10 elements evenly spaced between 1 and 10.\n",
    "import numpy as np\n",
    "np.linspace(1, 10, num=10)\n",
    "print(np.linspace(1, 10, 10))\n",
    "print(np.linspace(1, 10, 10, endpoint=False))\n",
    "print(np.linspace(1, 10, 10, retstep=True))\n",
    "print(np.linspace(1, 10, 10, dtype=int))\n"
   ]
  },
  {
   "cell_type": "markdown",
   "metadata": {},
   "source": [
    "### Array Operations\n",
    "- Arithmetic operations: `+`, `-`, `*`, `/`, `**`\n",
    "- Boolean indexing and masking\n",
    "- Universal functions (ufuncs): `np.sin()`, `np.exp()`, `np.sqrt()`, etc.\n",
    "- Aggregation functions: `np.sum()`, `np.mean()`, `np.std()`, `np.min()`, `np.max()`"
   ]
  },
  {
   "cell_type": "code",
   "execution_count": 11,
   "metadata": {},
   "outputs": [
    {
     "name": "stdout",
     "output_type": "stream",
     "text": [
      "[ 4  8 10]\n"
     ]
    }
   ],
   "source": [
    "# additiom of two arrays \n",
    "arr1 = np.array([2,4,5])\n",
    "arr2 = np.array([2,4,5])\n",
    "arr=arr1+arr2\n",
    "print(arr)\n"
   ]
  },
  {
   "cell_type": "code",
   "execution_count": 12,
   "metadata": {},
   "outputs": [
    {
     "name": "stdout",
     "output_type": "stream",
     "text": [
      "[0 0 0]\n"
     ]
    }
   ],
   "source": [
    "# subtraction of two arrays\n",
    "subarr=arr1-arr2\n",
    "print(subarr)"
   ]
  },
  {
   "cell_type": "code",
   "execution_count": 13,
   "metadata": {},
   "outputs": [
    {
     "name": "stdout",
     "output_type": "stream",
     "text": [
      "[ 4 16 25]\n"
     ]
    }
   ],
   "source": [
    "# multiplication of two arrays\n",
    "mularr=arr1*arr2\n",
    "print(mularr)"
   ]
  },
  {
   "cell_type": "code",
   "execution_count": 14,
   "metadata": {},
   "outputs": [
    {
     "name": "stdout",
     "output_type": "stream",
     "text": [
      "161\n"
     ]
    }
   ],
   "source": [
    "arr1 = np.array([2,4,5,8,10])\n",
    "arr2 = np.array([10,5,3,2,9])\n",
    "# dot product of two arrays\n",
    "dotarr=np.dot(arr1,arr2)   # 2*10+4*5+5*3+8*2+10*9 = 20+20+15+16+90 = 161 \n",
    "print(dotarr) "
   ]
  },
  {
   "cell_type": "code",
   "execution_count": 15,
   "metadata": {},
   "outputs": [
    {
     "name": "stdout",
     "output_type": "stream",
     "text": [
      "[0.2        0.8        1.66666667 4.         1.11111111]\n"
     ]
    }
   ],
   "source": [
    "# division of two arrays\n",
    "divarr=arr1/arr2\n",
    "print(divarr)"
   ]
  },
  {
   "cell_type": "markdown",
   "metadata": {},
   "source": [
    "# Boolean Indexing and Masking\n",
    "- Boolean indexing is the use of boolean arrays to filter arrays based on a condition like `arr[arr > 0]`\n",
    "- Boolean masking is the use of boolean arrays to assign values based on a condition like `arr[arr < 0] = 0`"
   ]
  },
  {
   "cell_type": "code",
   "execution_count": 16,
   "metadata": {},
   "outputs": [
    {
     "name": "stdout",
     "output_type": "stream",
     "text": [
      "[False False  True  True  True]\n",
      "[ 5  8 10]\n",
      "[2 4]\n",
      "[]\n",
      "[ 2  4  5  8 10]\n"
     ]
    }
   ],
   "source": [
    "# numpy array boolean indexing\n",
    "# senario 1\n",
    "arr1 = np.array([2,4,5,8,10])\n",
    "arr2 = np.array([10,5,3,2,9])\n",
    "print(arr1>arr2)  # 2>10, 4>5, 5>3, 8>2, 10>9 = False,False,True,True,True\n",
    "\n",
    "# senario \n",
    "arr1 = np.array([2,4,5,8,10])\n",
    "arr2 = np.array([10,5,3,2,9])\n",
    "print(arr1[arr1>arr2])  # 2[2>10], 4[4>5], 5[5>3], 8[8>2], 10[10>9] = 5,8,10  it will return the values which are true\n",
    "\n",
    "# senario 3\n",
    "arr1 = np.array([2,4,5,8,10])\n",
    "arr2 = np.array([10,5,3,2,9])\n",
    "print(arr1[arr1<arr2])  # 2[2<10], 4[4<5], 5[5<3], 8[8<2], 10[10<9] = 2,4  it will return the values which are true\n",
    "\n",
    "# senario 4\n",
    "arr1 = np.array([2,4,5,8,10])\n",
    "arr2 = np.array([10,5,3,2,9])\n",
    "print(arr1[arr1==arr2])  # 2[2==10], 4[4==5], 5[5==3], 8[8==2], 10[10==9] = 0  it will return the values which are true\n",
    "\n",
    "# senario 5 \n",
    "arr1 = np.array([2,4,5,8,10])\n",
    "arr2 = np.array([10,5,3,2,9])\n",
    "print(arr1[arr1!=arr2])  # 2[2!=10], 4[4!=5], 5[5!=3], 8[8!=2], 10[10!=9] = 2,4,5,8,10  it will return the values which are true\n"
   ]
  },
  {
   "cell_type": "markdown",
   "metadata": {},
   "source": [
    "# Boolean Masking\n",
    "- Boolean masking is the use of boolean arrays to assign values based on a condition like `arr[arr < 0] = 0`"
   ]
  },
  {
   "cell_type": "code",
   "execution_count": 17,
   "metadata": {},
   "outputs": [
    {
     "name": "stdout",
     "output_type": "stream",
     "text": [
      "[False False False  True  True]\n",
      "[ 8 10]\n",
      "[2 4]\n",
      "[5]\n"
     ]
    }
   ],
   "source": [
    "# numpy array boolean masking\n",
    "arr1 = np.array([2,4,5,8,10])\n",
    "mask = arr1>5   # 2>5, 4>5, 5>5, 8>5, 10>5 = False,False,False,True,True\n",
    "print(mask)  # [False False False  True  True] it will return the values which are true and false\n",
    "\n",
    "# senario 2\n",
    "arr1 = np.array([2,4,5,8,10])\n",
    "mask = arr1>5   # 2>5, 4>5, 5>5, 8>5, 10>5 = False,False,False,True,True\n",
    "print(arr1[mask])  # 8,10  it will return the values which are true \n",
    "\n",
    "# senario 3\n",
    "arr1 = np.array([2,4,5,8,10])\n",
    "mask = arr1<5   # 2<5, 4<5, 5<5, 8<5, 10<5 = True,True,False,False,False\n",
    "print(arr1[mask])  # 2,4  it will return the values which are true\n",
    "\n",
    "# senario 4\n",
    "arr1 = np.array([2,4,5,8,10])\n",
    "mask = arr1==5   # 2==5, 4==5, 5==5, 8==5, 10==5 = False,False,True,False,False\n",
    "print(arr1[mask])  # 5  it will return the values which are true"
   ]
  },
  {
   "cell_type": "markdown",
   "metadata": {},
   "source": [
    "#  Universal functions (ufuncs): \n",
    "- Universal functions (ufuncs) are functions that operate element-wise on an array means they are used to perform element-wise operations on data in ndarrays like \n",
    "- `np.sin()`  used to calculate the sine of each element in the array \n",
    "- `np.exp()`  used to calculate the exponential of each element in the array\n",
    "- `np.sqrt()` used to calculate the square root of each element in the array\n",
    "- `np.log()`  used to calculate the natural logarithm of each element in the array\n",
    "- `np.abs()`  used to calculate the absolute value of each element in the array\n",
    "- `np.ceil()` used to calculate the smallest integer value greater than or equal to each element in the array\n",
    "- `np.floor()` used to calculate the largest integer value less than or equal to each element in the array\n",
    "- `np.round()` used to calculate the value of each element in the array rounded to the nearest integer\n",
    "- `np.isnan()` used to check if each element in the array is NaN or not\n",
    "- `np.isinf()` used to check if each element in the array is positive or negative infinity\n",
    "- `np.isfinite()` used to check if each element in the array is finite or not\n",
    "- `np.sign()`  used to calculate the sign of each element in the array\n",
    "- `np.clip()`  used to limit the values in an array to a specified range\n",
    "- `np.interp()` used to perform linear interpolation on an array\n",
    "  \n",
    "# Polynomial Functions\n",
    "- `np.polyval()` used to evaluate a polynomial at a specified value\n",
    "- `np.polyfit()` used to fit a polynomial to data\n",
    "- `np.roots()`  used to calculate the roots of a polynomial\n",
    "- `np.polyder()` used to calculate the derivative of a polynomial\n",
    "- `np.polyint()` used to calculate the integral of a polynomial\n",
    "- `np.polyadd()` used to add two polynomials\n",
    "- `np.polysub()` used to subtract two polynomials\n",
    "- `np.polymul()` used to multiply two polynomials\n",
    "- `np.polydiv()` used to divide two polynomials\n",
    "- `np.polyval()` used to evaluate a polynomial at a specified value\n",
    "- `np.polyfit()` used to fit a polynomial to data\n",
    "\n",
    "# Aggregation functions\n",
    "- Aggregation functions are functions that summarize the values in an array like\n",
    "- `np.sum()`  used to calculate the sum of the values in an array\n",
    "- `np.mean()` used to calculate the mean of the values in an array\n",
    "- `np.std()`  used to calculate the standard deviation of the values in an array\n",
    "- `np.min()`  used to calculate the minimum value in an array\n",
    "- `np.max()`  used to calculate the maximum value in an array\n",
    "- `np.argmin()` used to find the index of the minimum value in an array\n",
    "- `np.argmax()` used to find the index of the maximum value in an array\n",
    "- `np.median()` used to calculate the median of the values in an array\n",
    "- `np.percentile()` used to calculate the nth percentile of the values in an array\n",
    "- `np.any()`  used to check if any of the values in an array are True\n",
    "- `np.all()`  used to check if all of the values in an array are True\n",
    "- `np.unique()` used to find the unique values in an array\n",
    "- `np.bincount()` used to count the occurrences of each value in an array\n",
    "- `np.histogram()` used to calculate the frequency of values in an array\n",
    "- `np.cov()`  used to calculate the covariance matrix of two arrays\n",
    "- `np.corrcoef()` used to calculate the correlation coefficient of two arrays\n",
    "  # Linear Algebra Functions\n",
    "- `np.linalg.norm()` used to calculate the norm of a vector or matrix\n",
    "- `np.linalg.det()` used to calculate the determinant of a matrix\n",
    "- `np.linalg.inv()` used to calculate the inverse of a matrix\n",
    "- `np.linalg.eig()` used to calculate the eigenvalues and eigenvectors of a matrix\n",
    "- `np.linalg.svd()` used to calculate the singular value decomposition of a matrix\n",
    "- `np.linalg.solve()` used to solve a system of linear equations\n",
    "- `np.linalg.lstsq()` used to solve a least squares problem\n",
    "- `np.linalg.matrix_power()` used to raise a square matrix to a power\n",
    "- `np.linalg.matrix_rank()` used to calculate the rank of a matrix\n",
    "- `np.linalg.norm()` used to calculate the norm of a vector or matrix\n",
    "- `np.linalg.det()` used to calculate the determinant of a matrix\n",
    "- `np.linalg.inv()` used to calculate the inverse of a matrix\n",
    "\n",
    "# Array Manipulation\n",
    "- Reshaping arrays: `np.reshape()`, `np.ravel()`, `np.flatten()`, `np.squeeze()`\n",
    "- Joining arrays: `np.concatenate()`, `np.vstack()`, `np.hstack()`\n",
    "- Splitting arrays: `np.split()`, `np.vsplit()`, `np.hsplit()`\n",
    "- Adding and removing elements: `np.append()`, `np.insert()`, `\n",
    "- Transposing arrays: `np.transpose()`, `arr.T`\n",
    "- Flipping arrays: `np.flip()`, `np.fliplr()`, `np.flipud()`\n",
    "- Rotating arrays: `np.rot90()`, `np.roll()`, `np.rollaxis()`\n",
    "- Tiling arrays: `np.tile()`, `np.repeat()`\n",
    "- Sorting arrays: `np.sort()`, `np.argsort()`, `np.argmin()`, `np.argmax()`\n",
    "- Combining arrays: `np.stack()`, `np.dstack()`, `np.column_stack()`, `np.row_stack()`\n",
    "- Splitting arrays: `np.array_split()`, `np.hsplit()`, `np.vsplit()`\n",
    "- Changing data type: `np.astype()`, `np.asarray()`, `np.asmatrix()`\n",
    "\n",
    "\n",
    "  \n"
   ]
  },
  {
   "cell_type": "code",
   "execution_count": null,
   "metadata": {},
   "outputs": [],
   "source": []
  },
  {
   "cell_type": "code",
   "execution_count": null,
   "metadata": {},
   "outputs": [],
   "source": []
  },
  {
   "cell_type": "code",
   "execution_count": null,
   "metadata": {},
   "outputs": [],
   "source": []
  },
  {
   "cell_type": "code",
   "execution_count": null,
   "metadata": {},
   "outputs": [],
   "source": []
  },
  {
   "cell_type": "markdown",
   "metadata": {},
   "source": [
    "# Sorting and Searching\n",
    "### Sorting\n",
    "- `np.sort()`: Sorts an array in ascending order along a specified axis or axes\n",
    "- `np.argsort()`: Returns the indices that would sort an array in ascending order\n",
    "- `np.lexsort()`: Returns the indices that would sort an array using a sequence of keys\n",
    "- `np.searchsorted()`: Finds the indices where elements should be inserted to maintain order\n",
    "- `np.partition()`: Partitions an array in such a way that the smallest k elements are at the beginning\n",
    "- `np.argpartition()`: Returns the indices that would partition an array in such a way that the smallest k elements are at the beginning\n",
    "- `np.msort()`: Sorts an array using merge sort algorithm\n",
    "- `np.sort_complex()`: Sorts an array of complex numbers based on their real part first, then their imaginary part\n",
    "- `np.sort_multi()`: Sorts an array by multiple columns or fields\n",
    "-  `np.sort()`: Sorts an array in ascending order along a specified axis or axes\n",
    "-  \n",
    "### Searching\n",
    "- `np.where()`: Returns the indices of elements that satisfy a condition\n",
    "- `np.extract()`: Returns the elements that satisfy a condition \n",
    "- `np.nonzero()`: Returns the indices of elements that are non-zero \n",
    "- `np.argmax()`: Returns the index of the maximum value in an array\n",
    "- `np.argmin()`: Returns the index of the minimum value in an array\n",
    "- `np.searchsorted()`: Finds the indices where elements should be inserted to maintain order\n",
    "- `np.count_nonzero()`: Counts the number of non-zero elements in an array\n",
    "- `np.flatnonzero()`: Returns the indices of non-zero elements in a flattened array\n",
    "- `np.in1d()`: Tests whether each element in an array is also present in a second array\n",
    "- `np.isin()`: Tests whether each element in an array is also present in a second array\n",
    "- `np.setdiff1d()`: Finds the set difference of two arrays\n",
    "- `np.setxor1d()`: Finds the set exclusive-or of two arrays\n",
    "- `np.intersect1d()`: Finds the intersection of two arrays\n",
    "- `np.union1d()`: Finds the union of two arrays\n",
    "- `np.unique()`: Finds the unique elements in an array\n",
    "- `np.bincount()`: Counts the occurrences of each value in an array\n",
    "- `np.digitize()`: Returns the indices of the bins to which each value in an array belongs\n",
    "\n"
   ]
  },
  {
   "cell_type": "code",
   "execution_count": null,
   "metadata": {},
   "outputs": [],
   "source": []
  },
  {
   "cell_type": "code",
   "execution_count": null,
   "metadata": {},
   "outputs": [],
   "source": []
  },
  {
   "cell_type": "code",
   "execution_count": null,
   "metadata": {},
   "outputs": [],
   "source": []
  },
  {
   "cell_type": "code",
   "execution_count": null,
   "metadata": {},
   "outputs": [],
   "source": []
  },
  {
   "cell_type": "code",
   "execution_count": null,
   "metadata": {},
   "outputs": [],
   "source": []
  },
  {
   "cell_type": "code",
   "execution_count": null,
   "metadata": {},
   "outputs": [],
   "source": []
  },
  {
   "cell_type": "markdown",
   "metadata": {},
   "source": [
    "# Random Number Generation\n",
    "- `np.random.rand()`: Generates random numbers from a uniform distribution\n",
    "- `np.random.choice()`: Generates random samples from a given 1-D array \n",
    "- `np.random.randint()`: Generates random integers from a discrete uniform distribution\n",
    "\n",
    "# File Input and Output\n",
    "- `np.save()`: Saves an array to a binary file \n",
    "- `np.savez()`: Saves multiple arrays to a binary file \n",
    "- `np.load()`: Loads an array from a binary file  \n",
    "- `np.loadtxt()`: Loads data from a text file\n",
    "- `np.genfromtxt()`: Loads data from a text file with missing values handled\n",
    "- `np.savetxt()`: Saves data to a text file \n",
    "- `np.loadcsv()`: Loads data from a CSV file\n",
    "- `np.savecsv()`: Saves data to a CSV file\n",
    "- `np.loadxls()`: Loads data from an Excel file\n",
    "- `np.savexls()`: Saves data to an Excel file\n",
    "- `np.loadhdf5()`: Loads data from an HDF5 file\n",
    "- `np.savehdf5()`: Saves data to an HDF5 file\n",
    "- `np.loadmat()`: Loads data from a MATLAB file\n",
    "- `np.savemat()`: Saves data to a MATLAB file\n",
    "- `np.loadsqldb()`: Loads data from a SQL database\n",
    "- `np.savesqldb()`: Saves data to a SQL database\n",
    "- `np.loadjson()`: Loads data from a JSON file\n",
    "- `np.savejson()`: Saves data to a JSON file\n",
    "- `np.loadpickle()`: Loads data from a pickle file\n",
    "- `np.savepickle()`: Saves data to a pickle file\n",
    "- `np.loadxml()`: Loads data from an XML file\n",
    "- `np.savexml()`: Saves data to an XML file\n",
    "- `np.loadyaml()`: Loads data from a YAML file\n",
    "- `np.saveyaml()`: Saves data to a YAML file\n",
    "- `np.loadtoml()`: Loads data from a TOML file\n",
    "- `np.savetoml()`: Saves data to a TOML file\n",
    "- `np.loadmsgpack()`: Loads data from a MessagePack file\n",
    "- `np.savemsgpack()`: Saves data to a MessagePack file\n",
    "\n",
    "\n"
   ]
  },
  {
   "cell_type": "code",
   "execution_count": null,
   "metadata": {},
   "outputs": [],
   "source": []
  },
  {
   "cell_type": "code",
   "execution_count": null,
   "metadata": {},
   "outputs": [],
   "source": []
  },
  {
   "cell_type": "code",
   "execution_count": null,
   "metadata": {},
   "outputs": [],
   "source": []
  },
  {
   "cell_type": "code",
   "execution_count": null,
   "metadata": {},
   "outputs": [],
   "source": []
  },
  {
   "cell_type": "markdown",
   "metadata": {},
   "source": [
    "# Broadcasting \n",
    "- Broadcasting is the process of making arrays with different shapes compatible for arithmetic operations  like \n",
    "- `np.add()`, `np.subtract()`, `np.multiply()`, `np.divide()`, `np.power()`  etc. \n",
    "\n",
    "# Vectorization \n",
    "- Vectorization is the process of applying operations to arrays instead of individual elements like\n",
    "- `np.sin()`, `np.exp()`, `np.sqrt()`, `np.log()`, `np.abs()`, `np.ceil()`, `np.floor()`, `np.round()`, `np.isnan()`, `np.isinf()`, `np.isfinite()`, `np.sign()`, `np.clip()`, `np.interp()`, `np.polyval()`, `np.polyfit()`, `np.roots()`, `np.polyder()`, `np.polyint()`, `np.polyadd()`, `np.polysub()`, `np.polymul()`, `np.polydiv()`, `np.polyval()`, `np.polyfit()`, `np.sum()`, `np.mean()`, `np.std()`, `np.min()`, `np.max()`, `np.argmin()`, `np.argmax()`, `np.median()`, `np.percentile()`, `np.any()`, `np.all()`, `np.unique()`, `np.bincount()`, `np.histogram()`, `np.cov()`, `np.corrcoef()`, `np.linalg.norm()`, `np.linalg.det()`, `np.linalg.inv()`, `np.linalg.eig()`, `np.linalg.svd()`, `np.linalg.solve()`, `np.linalg.lstsq()`, `np.linalg.matrix_power()`, `np.linalg.matrix_rank()`, `np.linalg.norm()`, `np.linalg.det()`, `np.linalg.inv()`, `np.reshape()`, `np.ravel()`, `np.flatten()`, `np.squeeze()`, `np.concatenate()`, `np.vstack()`, `np.hstack()`, `np.split()`, `np.vsplit()`, `np.hsplit()`, `np.append()`, `np.insert()`, `np.transpose()`, `np.flip()`, `np.fliplr()`, `np.flipud()`, `np.rot90()`, `np.roll()`, `np.rollaxis()`, `np.tile()`, `np.repeat()`, `np.sort()`, `np.argsort()`, `np.argmin()`, `np.argmax()`, `np.stack()`, `np.dstack()`, `np.column_stack()`, `np.row_stack()`, `np.array_split()`, `np.hsplit()`, `np.vsplit()`, `np.astype()`, `np.asarray()`, `np.asmatrix()`, `np.sort()`, `\n"
   ]
  },
  {
   "cell_type": "code",
   "execution_count": null,
   "metadata": {},
   "outputs": [],
   "source": []
  },
  {
   "cell_type": "code",
   "execution_count": null,
   "metadata": {},
   "outputs": [],
   "source": []
  },
  {
   "cell_type": "code",
   "execution_count": null,
   "metadata": {},
   "outputs": [],
   "source": []
  },
  {
   "cell_type": "markdown",
   "metadata": {},
   "source": [
    "# Fancy indexing\n",
    "- Fancy indexing is the process of using arrays as indices to access or modify elements in another array like\n",
    "- `arr[[0, 2, 4]]`  used to access elements at indices 0, 2, and 4 in the array  \n",
    "- `arr[[True, False, True]]` used to access elements at indices where the boolean array is True\n",
    "- `arr[arr > 0]` used to access elements that satisfy a condition\n",
    "\n",
    " # Structured arrays\n",
    "- Structured arrays are arrays with compound data types like \n",
    "- `np.dtype()` used to create a structured data type\n",
    "- `np.array()` used to create a structured array\n",
    "- `np.recarray()` used to create a record array\n",
    "- `np.genfromtxt()` used to load structured data from a text file\n",
    "- `np.savetxt()` used to save structured data to a text file\n",
    "- `np.save()` used to save structured data to a binary file\n",
    "- `np.load()` used to load structured data from a binary file\n",
    "\n",
    "# iteration\n",
    "- Iteration is the process of accessing each element in an array like \n",
    "- `for element in arr:` used to iterate over each element in the array\n",
    "- `for index, element in enumerate(arr):` used to iterate over each element and its index in the array\n",
    "- `for row in arr:` used to iterate over each row in a 2D array\n",
    "- `for row in arr:` used to iterate over each row in a 2D array\n",
    "\n"
   ]
  },
  {
   "cell_type": "code",
   "execution_count": null,
   "metadata": {},
   "outputs": [],
   "source": []
  },
  {
   "cell_type": "code",
   "execution_count": null,
   "metadata": {},
   "outputs": [],
   "source": []
  },
  {
   "cell_type": "code",
   "execution_count": null,
   "metadata": {},
   "outputs": [],
   "source": []
  },
  {
   "cell_type": "markdown",
   "metadata": {},
   "source": [
    "# arrange() function \n",
    "synctax: numpy.arange(start, stop, step, dtype) \n",
    "  - start: start of interval range  \n",
    "  - stop: end of interval range\n",
    "  - step: step size of interval\n",
    "  - dtype: type of output array (optional) int32, int64, float32 etc. \n",
    "```python\n",
    "import numpy as np\n",
    "arr = np.arange(0, 10, 2) # start=0, stop=10, step=2 \n",
    "print(arr)\n",
    "```\n",
    "output: [0 2 4 6 8]\n"
   ]
  },
  {
   "cell_type": "code",
   "execution_count": 18,
   "metadata": {},
   "outputs": [
    {
     "name": "stdout",
     "output_type": "stream",
     "text": [
      "[0 1 2 3 4 5 6 7 8 9]\n"
     ]
    }
   ],
   "source": [
    "ex1= np.arange(10)\n",
    "ex1\n",
    "print(ex1)\n",
    "ex2 = np.arange(2,10)"
   ]
  },
  {
   "cell_type": "markdown",
   "metadata": {},
   "source": [
    "# random() function\n",
    "syntax: numpy.random.rand(d0, d1, ..., dn)\n",
    "  - d0, d1, ..., dn: dimensions of the returned array\n",
    "  - returns an array of specified shape and fills it with random values\n",
    "```python\n",
    "import numpy as np\n",
    "arr = np.random.rand(2, 3) # 2 rows, 3 columns \n",
    "print(arr)\n",
    "```\n",
    "output: \n",
    "```\n",
    "[[0.5488135  0.71518937 0.60276338]\n",
    " [0.54488318 0.4236548  0.64589411]]\n",
    "```"
   ]
  },
  {
   "cell_type": "markdown",
   "metadata": {},
   "source": [
    "# reshape() function \n",
    "syntax: numpy.reshape(array, newshape, order='C')\n",
    "  - array: input array to be reshaped or existing array\n",
    "  - newshape: new shape of the array (tuple of ints)\n",
    "  - order: 'C' for row-major, 'F' for column-major, 'A' for Fortran-like\n",
    "```python\n",
    "import numpy as np\n",
    "arr = np.arange(6).reshape(2, 3) # 2 rows, 3 columns\n",
    "print(arr)\n",
    "```\n",
    "output: \n",
    "```\n",
    "[[0 1 2]\n",
    " [3 4 5]]\n",
    "```\n",
    "```python\n",
    "np.reshape(arr, 6) # reshaping to 1D array\n",
    "```\n",
    "output: [0 1 2 3 4 5]\n"
   ]
  },
  {
   "cell_type": "code",
   "execution_count": 19,
   "metadata": {},
   "outputs": [],
   "source": [
    "# np .save() and np.load() functions\n",
    "# np.save() function is used to save the array in a disk file with .npy extension.\n",
    "# np.load() function is used to load data from a .npy file.\n",
    "\n",
    "# np.save() function\n",
    "# numpy.save(file, arr, allow_pickle=True, fix_imports=True)  # save an array to a binary file in .npy format\n",
    "# file : file name or file object  \"baby.npy\"\n",
    "# arr : input array to save  ex1\n",
    "# allow_pickle : Allow saving object arrays using Python pickles. Reasons for disallowing pickles include security, as loading pickles can execute arbitrary code. If pickles are disallowed, loading object arrays will fail. Default: True\n",
    "# fix_imports : Only useful when loading Python 2 generated pickles on Python 3, which includes npy/npz files containing object arrays. If fix_imports is True, pickle will try to map the old Python 2 names to the new names used in Python 3. Default: True"
   ]
  },
  {
   "cell_type": "markdown",
   "metadata": {},
   "source": [
    "# Concepts by Professor Rizwan Sab\n"
   ]
  },
  {
   "cell_type": "code",
   "execution_count": 20,
   "metadata": {},
   "outputs": [
    {
     "name": "stdout",
     "output_type": "stream",
     "text": [
      "[3, 4, 5, 6, 7]\n"
     ]
    }
   ],
   "source": [
    "\n",
    "val= [1,2,3,4,5]\n",
    "# new_val= val+2\n",
    "# print(new_val)\n",
    "# so it mean we did not perform all mathematically and statially operation on list \n",
    "\n",
    "# using loop\n",
    "new_value =[]\n",
    "for i in val:\n",
    "    new_value.append(i+2)\n",
    "print(new_value)\n",
    "\n",
    "# but alternatively and 50x fast way using mumpy \n"
   ]
  },
  {
   "cell_type": "code",
   "execution_count": 21,
   "metadata": {},
   "outputs": [
    {
     "name": "stdout",
     "output_type": "stream",
     "text": [
      "[3 4 5 6 7]\n"
     ]
    }
   ],
   "source": [
    "import numpy as np\n",
    "arr1 = np.array(val)\n",
    "new_arr = arr1+2\n",
    "print(new_arr)"
   ]
  },
  {
   "cell_type": "markdown",
   "metadata": {},
   "source": [
    "# Data Types in Numpy array"
   ]
  },
  {
   "cell_type": "code",
   "execution_count": 22,
   "metadata": {},
   "outputs": [
    {
     "name": "stdout",
     "output_type": "stream",
     "text": [
      "[1 2 2 3 4 5 6]\n"
     ]
    },
    {
     "ename": "UFuncTypeError",
     "evalue": "ufunc 'multiply' did not contain a loop with signature matching types (dtype('<U32'), dtype('int64')) -> None",
     "output_type": "error",
     "traceback": [
      "\u001b[0;31m---------------------------------------------------------------------------\u001b[0m",
      "\u001b[0;31mUFuncTypeError\u001b[0m                            Traceback (most recent call last)",
      "Cell \u001b[0;32mIn[22], line 8\u001b[0m\n\u001b[1;32m      6\u001b[0m py_list \u001b[38;5;241m=\u001b[39m [\u001b[38;5;241m1\u001b[39m,\u001b[38;5;241m3\u001b[39m,\u001b[38;5;241m4\u001b[39m,\u001b[38;5;124m'\u001b[39m\u001b[38;5;124mali\u001b[39m\u001b[38;5;124m'\u001b[39m,\u001b[38;5;241m2.5\u001b[39m, \u001b[38;5;241m4\u001b[39m]\n\u001b[1;32m      7\u001b[0m \u001b[38;5;28mprint\u001b[39m(arr2)\n\u001b[0;32m----> 8\u001b[0m \u001b[38;5;28mprint\u001b[39m(arr3\u001b[38;5;241m*\u001b[39m\u001b[38;5;241m2\u001b[39m)\n",
      "\u001b[0;31mUFuncTypeError\u001b[0m: ufunc 'multiply' did not contain a loop with signature matching types (dtype('<U32'), dtype('int64')) -> None"
     ]
    }
   ],
   "source": [
    "# There are many arrays in Numpy arrays as compare to Pytho\n",
    "# and Naumpy array is Homogenous (means at same we can pass data as same datatypes only)\n",
    "# Example :\n",
    "arr2 = np.array([1,2,2,3,4,5,6])  # it is same datatype like int  and its correct\n",
    "arr3 = np.array([1,3,4,'ali',2.5, 4]) # it is difrent types and it  prints value but some issues it convert all int value into str while in python list it not convert \n",
    "py_list = [1,3,4,'ali',2.5, 4]\n",
    "print(arr2)\n",
    "print(arr3*2)  # it will show error because it is not same datatypes "
   ]
  },
  {
   "cell_type": "code",
   "execution_count": null,
   "metadata": {},
   "outputs": [],
   "source": [
    "for i in arr3:          #  arr3 using numpy \n",
    "    print(type(i))\n",
    "for l in py_list:       # list of python \n",
    "    print(type(l))\n",
    "print(arr3.dtype)\n",
    "print(arr3.dtype)"
   ]
  },
  {
   "cell_type": "code",
   "execution_count": null,
   "metadata": {},
   "outputs": [],
   "source": [
    "# in numpy array have lots of datatype like:\n",
    "# [uint8, range is 0 to  255]"
   ]
  },
  {
   "cell_type": "code",
   "execution_count": null,
   "metadata": {},
   "outputs": [],
   "source": [
    "# Python : axis 0 means row wise and axis 1 means column wise\n",
    "# Numpy : axis 0 means row wise and axis 1 means colum wise\n",
    "# Dask : axis 0 means row wise and axis 1 means column wise\n",
    "# Pandas : axis 0 means row wise and axis 1 means column wise\n",
    "# polars : axis 0 means row wise and axis 1 means column wise\n",
    "# Matplotlib : axis 0 means row wise and axis 1 means column wise\n",
    "# Scikit-learn : axis 0 means row wise and axis 1 means column wise\n",
    "# TensorFlow : axis 0 means row wise and axis 1 means column wise\n",
    "# Keras : axis 0 means row wise and axis 1 means column wise\n",
    "# PyTorch : axis 0 means row wise and axis 1 means column wise\n",
    "# Seaborn : axis 0 means row wise and axis 1 means column wise\n",
    "# Statsmodels : axis 0 means row wise and axis 1 means column wise\n",
    "# Scipy : axis 0 means row wise and axis 1 means column wise\n",
    "# OpenCV : axis 0 means row wise and axis 1 means column wise\n",
    "# Bokeh : axis 0 means row wise and axis 1 means column wise\n",
    "# Plotly : axis 0 means row wise and axis 1 means column wise\n",
    "# Dash : axis 0 means row wise and axis 1 means column wise\n",
    "\n",
    "\n"
   ]
  },
  {
   "attachments": {
    "image.png": {
     "image/png": "[encoded data removed]"
    }
   },
   "cell_type": "markdown",
   "metadata": {},
   "source": [
    "# 1D array \n",
    "- 1D array is a collection of elements of the same data type like \n",
    "- `np.array([1, 2, 3, 4, 5])`  used to create a 1D array of integers\n",
    "- `np.array([1.1, 2.2, 3.3, 4.4, 5.5])` used to create a 1D array of floats\n",
    "- `np.array(['a', 'b', 'c', 'd', 'e'])` used to create a 1D array of strings\n",
    "- `np.array([True, False, True, False, True])` used to create a 1D array of booleans\n",
    "- `np.array([1, 2.2, 'c', True])` used to create a 1D array of mixed data types\n",
    "- `np.array([1, 2, 3, 4, 5], dtype=np.int32)` used to create a 1D array of integers with 32-bit precision\n",
    "- `np.array([1, 2, 3, 4, 5], dtype=np.float64)` used to create a 1D array of floats with 64-bit precision\n",
    "\n",
    "# 1d array have only one row and multiple columns like\n",
    "- `np.array([1, 2, 3, 4, 5])`  used to create a 1D array of integers\n",
    "- and its axis is 0 \n",
    "\n",
    "# lets proove it \n",
    "```python\n",
    "import numpy as np\n",
    "arr = np.array([1, 2, 3, 4, 5])\n",
    "print(arr)\n",
    "print(arr.ndim) # 1\n",
    "print(arr.shape) # (5,)  5 rows and 0 columns\n",
    "print(arr.size) # 5\n",
    "print(arr.dtype) # int64\n",
    "print(arr.itemsize) # 8 bytes \n",
    "\n",
    "```\n",
    "\n",
    "![image.png](attachment:image.png)"
   ]
  },
  {
   "cell_type": "code",
   "execution_count": null,
   "metadata": {},
   "outputs": [],
   "source": [
    "# here some examples 1D array\n",
    "arr1 = np.array([1,2,3,4,5])\n",
    "arr2 = np.array([6,7,8,9,10])\n",
    "\n",
    "# now we will perform some operations on 1D array\n",
    "# addition of two arrays \n",
    "addition = arr1+arr2\n",
    "print(addition)\n",
    "\n",
    "# subtraction of two arrays\n",
    "subtraction = arr1-arr2\n",
    "print(subtraction)\n",
    "\n",
    "# multiplication of two arrays\n",
    "multiplication = arr1*arr2\n",
    "print(multiplication)\n",
    "\n",
    "# division of two arrays\n",
    "division = arr1/arr2\n",
    "print(division)\n",
    "\n",
    "# dot product of two arrays\n",
    "dot_product = np.dot(arr1,arr2)\n",
    "print(\"dot_product\",dot_product)\n",
    "\n",
    "\n",
    "# concatenation of two arrays\n",
    "concatenation = np.concatenate((arr1,arr2))\n",
    "print(\"concatenation\",concatenation)\n",
    "\n",
    "# 1d array creation using np.arange() function\n",
    "new_arr = np.arange(10)\n",
    "print(new_arr)\n",
    "\n",
    "# numpy array boolean indexing\n",
    "# senario 1\n",
    "print(arr1>arr2)  # 1>6, 2>7, 3>8, 4>9, 5>10 = False,False,False,False,False\n",
    "\n",
    "# senario 2\n",
    "print(arr1[arr1>arr2])  # 1[1>6], 2[2>7], 3[3>8], 4[4>9], 5[5>10] = 0  it will return the values which are true\n",
    "\n",
    "\n"
   ]
  },
  {
   "cell_type": "code",
   "execution_count": null,
   "metadata": {},
   "outputs": [],
   "source": []
  },
  {
   "cell_type": "code",
   "execution_count": null,
   "metadata": {},
   "outputs": [],
   "source": []
  },
  {
   "attachments": {
    "image.png": {
     "image/png": "[encoded data removed]"
    }
   },
   "cell_type": "markdown",
   "metadata": {},
   "source": [
    "# 2D array\n",
    "- 2D array is a collection of elements arranged in rows and columns like\n",
    "- `np.array([[1, 2, 3], [4, 5, 6]])` used to create a 2D array of integers \n",
    "- `np.array([[1.1, 2.2, 3.3], [4.4, 5.5, 6.6]])` used to create a 2D array of floats\n",
    "\n",
    "# 2D array have multiple rows and multiple columns like\n",
    "- `np.array([[1, 2, 3], [4, 5, 6]])` used to create a 2D array of integers \n",
    "- and its axis is 2 \n",
    "- axis 0 is row and axis 1 is column\n",
    "- ![image.png](attachment:image.png)\n",
    "\n",
    "- 2D array also called matrix like \n",
    "  "
   ]
  },
  {
   "cell_type": "markdown",
   "metadata": {},
   "source": [
    "## Some Examples of Using axis in Nummpy "
   ]
  },
  {
   "cell_type": "code",
   "execution_count": 29,
   "metadata": {},
   "outputs": [],
   "source": [
    "# EXAMPLE 01 \n",
    "a= np.arange(0,6).reshape(2,3)"
   ]
  },
  {
   "cell_type": "code",
   "execution_count": 30,
   "metadata": {},
   "outputs": [
    {
     "data": {
      "text/plain": [
       "array([[0, 1, 2],\n",
       "       [3, 4, 5]])"
      ]
     },
     "execution_count": 30,
     "metadata": {},
     "output_type": "execute_result"
    }
   ],
   "source": [
    "a"
   ]
  },
  {
   "cell_type": "code",
   "execution_count": 31,
   "metadata": {},
   "outputs": [
    {
     "data": {
      "text/plain": [
       "array([3, 5, 7])"
      ]
     },
     "execution_count": 31,
     "metadata": {},
     "output_type": "execute_result"
    }
   ],
   "source": [
    "# i want to sum by axix 0  = row wise \n",
    "suma = np.sum(a,axis=0)   # it sum by rows \n",
    "suma"
   ]
  },
  {
   "cell_type": "code",
   "execution_count": 45,
   "metadata": {},
   "outputs": [
    {
     "data": {
      "text/plain": [
       "5"
      ]
     },
     "execution_count": 45,
     "metadata": {},
     "output_type": "execute_result"
    }
   ],
   "source": [
    "# now i want sum by axis 1 = columns wise \n",
    "sumcolwise = np.sum(a, axis=0)\n",
    "sumcolwise"
   ]
  },
  {
   "cell_type": "code",
   "execution_count": 48,
   "metadata": {},
   "outputs": [
    {
     "name": "stdout",
     "output_type": "stream",
     "text": [
      "[2 3 4]\n",
      "1\n",
      "(3,)\n"
     ]
    }
   ],
   "source": [
    "# EXAMPLE 02\n",
    "\n",
    "#  Concatenations by axis 0 or 1 \n",
    "a = np.array([2,3])\n",
    "b = np.array([4])\n",
    "\n",
    "# i want to concatenation by axis 0 means add new as colums or add elements becaue it 1D\n",
    "con = np.concatenate([a,b],axis =0)\n",
    "print(con)\n",
    "print(con.ndim)\n",
    "print(con.shape)"
   ]
  },
  {
   "cell_type": "code",
   "execution_count": 47,
   "metadata": {},
   "outputs": [
    {
     "name": "stdout",
     "output_type": "stream",
     "text": [
      "[[1 2]\n",
      " [3 4]]\n",
      "2\n",
      "(2, 2)\n"
     ]
    }
   ],
   "source": [
    "# EXAMPLE 2.1,  2D \n",
    "\n",
    "#  Concatenations by axis 0 or 1 \n",
    "a = np.array([[1,2]])\n",
    "b = np.array([[3,4]])\n",
    "\n",
    "# i want to concatenation by axis 0 means add new ROW for 2D \n",
    "con = np.concatenate([a,b],axis =0)\n",
    "print(con)\n",
    "print(con.ndim)\n",
    "print(con.shape)"
   ]
  },
  {
   "cell_type": "code",
   "execution_count": 52,
   "metadata": {},
   "outputs": [
    {
     "name": "stdout",
     "output_type": "stream",
     "text": [
      "[[1 2 3 4]]\n",
      "2\n",
      "(1, 4)\n"
     ]
    }
   ],
   "source": [
    "# EXAMPLE 2.2,  2D \n",
    "\n",
    "#  Concatenations by axis 0 or 1 \n",
    "a = np.array([[1,2]])\n",
    "b = np.array([[3,4]])\n",
    "\n",
    "# i want to concatenation by axis 1 means add new columsn for 2D\n",
    "con = np.concatenate([a,b],axis =1)\n",
    "print(con)\n",
    "print(con.ndim)\n",
    "print(con.shape)"
   ]
  },
  {
   "cell_type": "code",
   "execution_count": 73,
   "metadata": {},
   "outputs": [
    {
     "name": "stdout",
     "output_type": "stream",
     "text": [
      "\n",
      "dimmentions of m1 is 2\n",
      "shape of m1 is (1, 2)  here 1 show rows and 2 columns \n",
      "# there are many many methods to show rows and colums\n",
      "1 . using unpacking by shapes functions \n",
      "2 . uisng len function \n",
      "\n",
      "\n"
     ]
    }
   ],
   "source": [
    "# Example 3 Matrix\n",
    "m1 = np.matrix([1,2])\n",
    "print(f'''\n",
    "dimmentions of m1 is {m1.ndim}\n",
    "shape of m1 is {m1.shape}  here 1 show rows and 2 columns \n",
    "# there are many many methods to show rows and colums\n",
    "1 . using unpacking by shapes functions \n",
    "2 . uisng len function \n",
    "\n",
    "''')"
   ]
  },
  {
   "cell_type": "code",
   "execution_count": 92,
   "metadata": {},
   "outputs": [
    {
     "name": "stdout",
     "output_type": "stream",
     "text": [
      "(1, 3)\n",
      "\n",
      "    Method 01 is using unpacking shape :\n",
      "    \n",
      "    The row of matrix is 1\n",
      "    The columns of matris is 3\n",
      "    \n",
      "using lengthe function\n"
     ]
    },
    {
     "data": {
      "text/plain": [
       "1"
      ]
     },
     "execution_count": 92,
     "metadata": {},
     "output_type": "execute_result"
    }
   ],
   "source": [
    "# Examples using both method to show rows and colums \n",
    "mat = np.matrix([1,2,3])\n",
    "print(mat.shape)\n",
    "row , col = np.shape(mat)\n",
    "print(\n",
    "    f'''\n",
    "    Method 01 is using unpacking shape :\n",
    "    \n",
    "    The row of matrix is {row}\n",
    "    The columns of matris is {col}\n",
    "    '''\n",
    ")\n",
    "\n",
    "print(\"using lengthe function\")\n",
    "r= len(mat)\n",
    "r\n",
    "c= len(mat[0])\n",
    "c\n"
   ]
  },
  {
   "cell_type": "code",
   "execution_count": 96,
   "metadata": {},
   "outputs": [
    {
     "name": "stdout",
     "output_type": "stream",
     "text": [
      "Number of rows: 1\n",
      "Number of columns: 3\n"
     ]
    }
   ],
   "source": [
    "\n",
    "\n",
    "\n",
    "import numpy as np\n",
    "\n",
    "arr = np.array([[1, 2, 3],\n",
    "               ])\n",
    "\n",
    "# rows, cols = arr.shape\n",
    "\n",
    "# print(\"Number of rows:\", rows)\n",
    "# print(\"Number of columns:\", cols)\n",
    "\n",
    "rows = len(arr)\n",
    "cols = len(arr[0])\n",
    "\n",
    "print(\"Number of rows:\", rows)\n",
    "print(\"Number of columns:\", cols)"
   ]
  },
  {
   "cell_type": "code",
   "execution_count": null,
   "metadata": {},
   "outputs": [],
   "source": []
  },
  {
   "cell_type": "code",
   "execution_count": null,
   "metadata": {},
   "outputs": [],
   "source": []
  },
  {
   "cell_type": "code",
   "execution_count": null,
   "metadata": {},
   "outputs": [],
   "source": []
  },
  {
   "cell_type": "code",
   "execution_count": 98,
   "metadata": {},
   "outputs": [
    {
     "data": {
      "image/png": "[encoded data removed]",
      "text/plain": [
       "<Figure size 1000x600 with 4 Axes>"
      ]
     },
     "metadata": {},
     "output_type": "display_data"
    }
   ],
   "source": [
    "import numpy as np\n",
    "import matplotlib.pyplot as plt\n",
    "\n",
    "# Function to plot the object\n",
    "def plot(vertices, title, color='blue'):\n",
    "    vertices = np.vstack([vertices, vertices[0]])  # Close the shape\n",
    "    plt.plot(vertices[:, 0], vertices[:, 1], marker='o', color=color, label=title)\n",
    "    plt.text(vertices[0, 0], vertices[0, 1], 'Start', fontsize=8, color='red')\n",
    "    plt.grid()\n",
    "    plt.title(title)\n",
    "    plt.axis('equal')\n",
    "\n",
    "# Original vertices of the shape (triangle)\n",
    "vertices = np.array([\n",
    "    [1, 1],  # Point A\n",
    "    [1, 3],  # Point B\n",
    "    [3, 1]   # Point C\n",
    "])\n",
    "\n",
    "# Transformation Matrices\n",
    "scaling_matrix_zoom_in = np.array([\n",
    "    [2, 0],\n",
    "    [0, 2]\n",
    "])\n",
    "\n",
    "scaling_matrix_zoom_out = np.array([\n",
    "    [0.5, 0],\n",
    "    [0, 0.5]\n",
    "])\n",
    "\n",
    "reflection_matrix = np.array([\n",
    "    [1, 0],\n",
    "    [0, -1]\n",
    "])\n",
    "\n",
    "# Apply Zoom In\n",
    "zoomed_in_vertices = vertices @ scaling_matrix_zoom_in.T\n",
    "\n",
    "# Apply Zoom Out to the zoomed-in object\n",
    "zoomed_out_vertices = zoomed_in_vertices @ scaling_matrix_zoom_out.T\n",
    "\n",
    "# Apply Reflection to the zoomed-out object\n",
    "reflected_vertices = zoomed_out_vertices @ reflection_matrix.T\n",
    "\n",
    "# Plotting\n",
    "plt.figure(figsize=(10, 6))\n",
    "\n",
    "# Original Shape\n",
    "plt.subplot(2, 2, 1)\n",
    "plot(vertices, \"Original Shape\", color='blue')\n",
    "\n",
    "# After Zoom In\n",
    "plt.subplot(2, 2, 2)\n",
    "plot(zoomed_in_vertices, \"Zoom In (Scaled Up)\", color='green')\n",
    "\n",
    "# After Zoom Out\n",
    "plt.subplot(2, 2, 3)\n",
    "plot(zoomed_out_vertices, \"Zoom Out (Scaled Down)\", color='orange')\n",
    "\n",
    "# After Reflection\n",
    "plt.subplot(2, 2, 4)\n",
    "plot(reflected_vertices, \"Reflection (Flipped)\", color='red')\n",
    "\n",
    "plt.tight_layout()\n",
    "plt.show()\n"
   ]
  },
  {
   "cell_type": "code",
   "execution_count": 99,
   "metadata": {},
   "outputs": [
    {
     "data": {
      "image/png": "[encoded data removed]",
      "text/plain": [
       "<Figure size 640x480 with 2 Axes>"
      ]
     },
     "metadata": {},
     "output_type": "display_data"
    },
    {
     "data": {
      "image/png": "[encoded data removed]",
      "text/plain": [
       "<Figure size 640x480 with 2 Axes>"
      ]
     },
     "metadata": {},
     "output_type": "display_data"
    },
    {
     "data": {
      "image/png": "[encoded data removed]",
      "text/plain": [
       "<Figure size 640x480 with 2 Axes>"
      ]
     },
     "metadata": {},
     "output_type": "display_data"
    },
    {
     "data": {
      "image/png": "[encoded data removed]",
      "text/plain": [
       "<Figure size 640x480 with 2 Axes>"
      ]
     },
     "metadata": {},
     "output_type": "display_data"
    }
   ],
   "source": [
    "import numpy as np\n",
    "import matplotlib.pyplot as plt\n",
    "\n",
    "# Create a dummy image as a matrix (grayscale values)\n",
    "dummy_image = np.array([\n",
    "    [50, 100, 150],\n",
    "    [200, 250, 200],\n",
    "    [150, 100, 50]\n",
    "])\n",
    "\n",
    "# Function to display an image\n",
    "def display_image(image, title):\n",
    "    plt.imshow(image, cmap='gray', vmin=0, vmax=255)\n",
    "    plt.title(title)\n",
    "    plt.axis('off')\n",
    "    plt.colorbar()\n",
    "    plt.show()\n",
    "\n",
    "# Display original image\n",
    "display_image(dummy_image, \"Original Image\")\n",
    "\n",
    "# Transformation Matrices\n",
    "# Scaling for Zoom In\n",
    "zoom_in_matrix = np.array([\n",
    "    [2, 0],\n",
    "    [0, 2]\n",
    "])\n",
    "\n",
    "# Scaling for Zoom Out\n",
    "zoom_out_matrix = np.array([\n",
    "    [0.5, 0],\n",
    "    [0, 0.5]\n",
    "])\n",
    "\n",
    "# Reflection matrix (flip over x-axis)\n",
    "reflection_matrix = np.array([\n",
    "    [1, 0],\n",
    "    [0, -1]\n",
    "])\n",
    "\n",
    "# Zoom In: Repeat pixels to simulate zoom in\n",
    "zoom_in_image = np.kron(dummy_image, np.ones((2, 2)))\n",
    "\n",
    "# Zoom Out: Downscale by averaging neighboring pixels\n",
    "zoom_out_image = zoom_in_image[::2, ::2]\n",
    "\n",
    "# Reflection: Flip the image vertically\n",
    "reflected_image = np.flipud(zoom_out_image)\n",
    "\n",
    "# Display transformations\n",
    "display_image(zoom_in_image, \"Zoom In (Enlarged)\")\n",
    "display_image(zoom_out_image, \"Zoom Out (Reduced)\")\n",
    "display_image(reflected_image, \"Reflected Image (Flipped Vertically)\")\n"
   ]
  },
  {
   "cell_type": "code",
   "execution_count": null,
   "metadata": {},
   "outputs": [],
   "source": []
  },
  {
   "cell_type": "code",
   "execution_count": null,
   "metadata": {},
   "outputs": [],
   "source": []
  },
  {
   "cell_type": "code",
   "execution_count": null,
   "metadata": {},
   "outputs": [],
   "source": []
  },
  {
   "cell_type": "code",
   "execution_count": null,
   "metadata": {},
   "outputs": [],
   "source": []
  },
  {
   "cell_type": "code",
   "execution_count": 104,
   "metadata": {},
   "outputs": [
    {
     "data": {
      "image/png": "[encoded data removed]",
      "text/plain": [
       "<Figure size 1000x500 with 2 Axes>"
      ]
     },
     "metadata": {},
     "output_type": "display_data"
    }
   ],
   "source": [
    "import matplotlib.pyplot as plt\n",
    "import numpy as np\n",
    "\n",
    "# Create a 2D matrix (adjust values as needed)\n",
    "matrix = np.array([\n",
    "    [88, 19, 46, 74, 94],\n",
    "    [69, 79, 26, 7, 29],\n",
    "    [21, 45, 12, 80, 72],\n",
    "    [28, 53, 65, 26, 64],\n",
    "    [71, 96, 34, 61, 52]\n",
    "])\n",
    "\n",
    "# Visualize the matrix\n",
    "plt.imshow(matrix, cmap='viridis', interpolation='nearest')\n",
    "plt.colorbar()\n",
    "plt.title('2D Matrix Visualization')\n",
    "plt.xlabel('Second Index')\n",
    "plt.ylabel('First Index')\n",
    "plt.xticks(np.arange(len(matrix[0])), np.arange(1, len(matrix[0]) + 1))\n",
    "plt.yticks(np.arange(len(matrix)), np.arange(1, len(matrix) + 1))\n",
    "\n",
    "# Annotate each cell with its value\n",
    "for i in range(len(matrix)):\n",
    "    for j in range(len(matrix[0])):\n",
    "        plt.text(j, i, str(matrix[i, j]), color='black', ha='center', va='center')\n",
    "\n",
    "plt.show()"
   ]
  },
  {
   "cell_type": "code",
   "execution_count": null,
   "metadata": {},
   "outputs": [],
   "source": []
  },
  {
   "cell_type": "code",
   "execution_count": null,
   "metadata": {},
   "outputs": [],
   "source": []
  },
  {
   "cell_type": "code",
   "execution_count": null,
   "metadata": {},
   "outputs": [],
   "source": []
  },
  {
   "cell_type": "code",
   "execution_count": null,
   "metadata": {},
   "outputs": [],
   "source": []
  }
 ],
 "metadata": {
  "kernelspec": {
   "display_name": "Python 3 (ipykernel)",
   "language": "python",
   "name": "python3"
  },
  "language_info": {
   "codemirror_mode": {
    "name": "ipython",
    "version": 3
   },
   "file_extension": ".py",
   "mimetype": "text/x-python",
   "name": "python",
   "nbconvert_exporter": "python",
   "pygments_lexer": "ipython3",
   "version": "3.12.4"
  }
 },
 "nbformat": 4,
 "nbformat_minor": 4
}
