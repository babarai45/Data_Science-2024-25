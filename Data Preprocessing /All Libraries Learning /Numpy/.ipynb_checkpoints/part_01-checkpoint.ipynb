{
 "cells": [
  {
   "cell_type": "markdown",
   "id": "4d7addee8c3cfd04",
   "metadata": {},
   "source": [
    "# PAll Basic  Numpy Part-1 "
   ]
  },
  {
   "cell_type": "code",
   "execution_count": 2,
   "id": "initial_id",
   "metadata": {
    "ExecuteTime": {
     "end_time": "2024-11-18T05:07:07.747689Z",
     "start_time": "2024-11-18T05:07:07.731013Z"
    }
   },
   "outputs": [],
   "source": [
    "import numpy as np"
   ]
  },
  {
   "cell_type": "code",
   "execution_count": 3,
   "id": "390a9ec86706988e",
   "metadata": {},
   "outputs": [
    {
     "data": {
      "text/plain": [
       "'The version of numpy is 1.26.4'"
      ]
     },
     "execution_count": 3,
     "metadata": {},
     "output_type": "execute_result"
    }
   ],
   "source": [
    "# check version of current numpy is \n",
    "f'The version of numpy is {np.__version__}'"
   ]
  },
  {
   "cell_type": "code",
   "execution_count": 5,
   "id": "20db7eb0-bab2-469d-8efb-28bf2940d090",
   "metadata": {},
   "outputs": [
    {
     "data": {
      "text/plain": [
       "array([1, 2, 3, 4, 5])"
      ]
     },
     "execution_count": 5,
     "metadata": {},
     "output_type": "execute_result"
    }
   ],
   "source": [
    "# creating Array using Numpy \n",
    "arr1 = np.array([1,2,3,4,5])\n",
    "arr1"
   ]
  },
  {
   "cell_type": "code",
   "execution_count": 9,
   "id": "00de1bcf-451a-4328-9045-e7ebf22fbebd",
   "metadata": {},
   "outputs": [
    {
     "name": "stdout",
     "output_type": "stream",
     "text": [
      "type of array is  <class 'numpy.ndarray'>\n",
      "Dimention of array is  1\n"
     ]
    }
   ],
   "source": [
    "# to check its all property of using numpy built-in function \n",
    "print('type of array is ',type(arr1))\n",
    "print('Dimention of array is ',arr1.ndim)"
   ]
  },
  {
   "cell_type": "code",
   "execution_count": null,
   "id": "1f708cbb-baab-4100-8317-7ee4735a03f2",
   "metadata": {},
   "outputs": [],
   "source": []
  }
 ],
 "metadata": {
  "kernelspec": {
   "display_name": "Python 3 (ipykernel)",
   "language": "python",
   "name": "python3"
  },
  "language_info": {
   "codemirror_mode": {
    "name": "ipython",
    "version": 3
   },
   "file_extension": ".py",
   "mimetype": "text/x-python",
   "name": "python",
   "nbconvert_exporter": "python",
   "pygments_lexer": "ipython3",
   "version": "3.12.4"
  }
 },
 "nbformat": 4,
 "nbformat_minor": 5
}
