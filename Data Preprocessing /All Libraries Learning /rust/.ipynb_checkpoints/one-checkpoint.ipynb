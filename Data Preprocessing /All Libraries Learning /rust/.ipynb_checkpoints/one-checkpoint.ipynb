{
 "cells": [
  {
   "cell_type": "code",
   "metadata": {
    "vscode": {
     "languageId": "rust"
    },
    "ExecuteTime": {
     "end_time": "2024-11-28T12:42:06.780170480Z",
     "start_time": "2024-11-28T12:42:06.637697722Z"
    }
   },
   "source": [
    " println!(\"Well come to Rust Programing Language!\");\n",
    " "
   ],
   "outputs": [
    {
     "name": "stdout",
     "output_type": "stream",
     "text": [
      "Well come to Rust Programing Language!\n"
     ]
    }
   ],
   "execution_count": 3
  },
  {
   "cell_type": "code",
   "metadata": {
    "vscode": {
     "languageId": "rust"
    },
    "ExecuteTime": {
     "end_time": "2024-11-28T12:42:10.112986416Z",
     "start_time": "2024-11-28T12:42:08.714639829Z"
    }
   },
   "source": [
    "// # 2. Variables\n",
    "let x = 5;\n",
    "let y = 10;\n",
    "let z = x + y;\n",
    "println!(\"The value of z is: {}\", z);"
   ],
   "outputs": [
    {
     "name": "stdout",
     "output_type": "stream",
     "text": [
      "The value of z is: 15\n"
     ]
    }
   ],
   "execution_count": 4
  },
  {
   "cell_type": "code",
   "metadata": {
    "vscode": {
     "languageId": "rust"
    },
    "ExecuteTime": {
     "end_time": "2024-11-28T12:42:14.216834457Z",
     "start_time": "2024-11-28T12:42:14.216325190Z"
    }
   },
   "source": [
    "//  installing polars library for data manipulation\n"
   ],
   "outputs": [],
   "execution_count": 5
  },
  {
   "cell_type": "code",
   "execution_count": null,
   "metadata": {
    "vscode": {
     "languageId": "rust"
    }
   },
   "outputs": [],
   "source": []
  }
 ],
 "metadata": {
  "kernelspec": {
   "display_name": "Rust",
   "language": "rust",
   "name": "rust"
  },
  "language_info": {
   "codemirror_mode": "rust",
   "file_extension": ".rs",
   "mimetype": "text/rust",
   "name": "Rust",
   "pygment_lexer": "rust",
   "version": ""
  }
 },
 "nbformat": 4,
 "nbformat_minor": 2
}
