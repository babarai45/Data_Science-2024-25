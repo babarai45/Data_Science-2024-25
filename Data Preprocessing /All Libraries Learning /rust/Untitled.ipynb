{
 "cells": [
  {
   "cell_type": "markdown",
   "id": "c2bb1095-37f5-4467-bcb5-e4fb87036d1a",
   "metadata": {},
   "source": [
    "# Rust Programing "
   ]
  },
  {
   "cell_type": "code",
   "execution_count": 18,
   "id": "366fd697-70fa-475c-8d49-1bff0c805709",
   "metadata": {
    "editable": true,
    "slideshow": {
     "slide_type": ""
    },
    "tags": []
   },
   "outputs": [],
   "source": [
    "fn main(){\n",
    "  println!(\"Well Come to Rust\");  \n",
    "}"
   ]
  },
  {
   "cell_type": "code",
   "execution_count": 19,
   "id": "20eff0dd-7951-42b6-b409-cb83c3bad8b6",
   "metadata": {},
   "outputs": [
    {
     "name": "stdout",
     "output_type": "stream",
     "text": [
      "Well Come to Rust\n"
     ]
    }
   ],
   "source": [
    "main();"
   ]
  },
  {
   "cell_type": "code",
   "execution_count": 20,
   "id": "06da9f6b-7fe9-4407-8848-0c7776560a64",
   "metadata": {
    "editable": true,
    "slideshow": {
     "slide_type": ""
    },
    "tags": []
   },
   "outputs": [
    {
     "name": "stdout",
     "output_type": "stream",
     "text": [
      "it is king of language for future \n"
     ]
    }
   ],
   "source": [
    "println!(\"it is king of language for future \");"
   ]
  },
  {
   "cell_type": "code",
   "execution_count": null,
   "id": "9e222eb7-8819-4c2f-9cdb-491235ca6280",
   "metadata": {},
   "outputs": [],
   "source": [
    "for i in "
   ]
  }
 ],
 "metadata": {
  "kernelspec": {
   "display_name": "Rust",
   "language": "rust",
   "name": "rust"
  },
  "language_info": {
   "codemirror_mode": "rust",
   "file_extension": ".rs",
   "mimetype": "text/rust",
   "name": "Rust",
   "pygment_lexer": "rust",
   "version": ""
  }
 },
 "nbformat": 4,
 "nbformat_minor": 5
}
