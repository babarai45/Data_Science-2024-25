{
 "cells": [
  {
   "cell_type": "code",
   "execution_count": 2,
   "metadata": {},
   "outputs": [
    {
     "name": "stdout",
     "output_type": "stream",
     "text": [
      "Well come to Rust Programing Language!\n"
     ]
    }
   ],
   "source": [
    " println!(\"Well come to Rust Programing Language!\");\n",
    " "
   ]
  },
  {
   "cell_type": "code",
   "execution_count": 3,
   "metadata": {},
   "outputs": [
    {
     "name": "stdout",
     "output_type": "stream",
     "text": [
      "The value of z is: 15\n"
     ]
    }
   ],
   "source": [
    "// # 2. Variables\n",
    "let x = 5;\n",
    "let y = 10;\n",
    "let z = x + y;\n",
    "println!(\"The value of z is: {}\", z);"
   ]
  },
  {
   "cell_type": "code",
   "execution_count": 4,
   "metadata": {},
   "outputs": [
    {
     "name": "stdout",
     "output_type": "stream",
     "text": [
      "The value of a is: 8\n"
     ]
    }
   ],
   "source": [
    "//  create a mutable variable\n",
    "let mut a = 3;\n",
    "\n",
    "//  shadowing\n",
    "let a = a + 1;\n",
    "let a = a * 2;\n",
    "println!(\"The value of a is: {}\", a);"
   ]
  },
  {
   "cell_type": "code",
   "execution_count": 5,
   "metadata": {},
   "outputs": [
    {
     "name": "stdout",
     "output_type": "stream",
     "text": [
      "1\n",
      "2\n",
      "3\n",
      "4\n",
      "5\n"
     ]
    }
   ],
   "source": [
    "//  list \n",
    "let list = [1, 2, 3, 4, 5];\n",
    "for i in list.iter() {\n",
    "    println!(\"{}\", i);\n",
    "};"
   ]
  },
  {
   "cell_type": "code",
   "execution_count": 6,
   "metadata": {},
   "outputs": [
    {
     "name": "stdout",
     "output_type": "stream",
     "text": [
      "For loop\n",
      "0\n",
      "1\n",
      "2\n",
      "3\n",
      "4\n",
      "For loop with range\n",
      "4\n",
      "3\n",
      "2\n",
      "1\n",
      "0\n",
      "For loop with range and step\n",
      "0\n",
      "2\n",
      "4\n",
      "While loop\n",
      "0\n",
      "1\n",
      "2\n",
      "3\n",
      "4\n",
      "While loop with range\n",
      "0\n",
      "1\n",
      "2\n",
      "3\n",
      "4\n",
      "While loop with range and step\n",
      "0\n",
      "2\n",
      "4\n"
     ]
    }
   ],
   "source": [
    "//  loops in rust\n",
    "//  for loop\n",
    "println!(\"For loop\");\n",
    "for i in 0..5 {\n",
    "    println!(\"{}\", i);\n",
    "}\n",
    "\n",
    "//  for loop with range\n",
    "println!(\"For loop with range\");\n",
    "for i in (0..5).rev() {\n",
    "    println!(\"{}\", i);\n",
    "}\n",
    "\n",
    "//  for loop with range and step\n",
    "println!(\"For loop with range and step\");\n",
    "for i in (0..5).step_by(2) {\n",
    "    println!(\"{}\", i);\n",
    "}\n",
    "\n",
    "//  while loop\n",
    "println!(\"While loop\");\n",
    "let mut i = 0;\n",
    "while i < 5 {\n",
    "    println!(\"{}\", i);\n",
    "    i += 1;\n",
    "};\n",
    "\n",
    "//  while loop with range\n",
    "println!(\"While loop with range\");\n",
    "let mut i = 0;\n",
    "while i < 5 {\n",
    "    println!(\"{}\", i);\n",
    "    i += 1;\n",
    "};\n",
    "\n",
    "//  while loop with range and step\n",
    "println!(\"While loop with range and step\");\n",
    "let mut i = 0;\n",
    "while i < 5 {\n",
    "    println!(\"{}\", i);\n",
    "    i += 2;\n",
    "};"
   ]
  },
  {
   "cell_type": "code",
   "execution_count": 7,
   "metadata": {},
   "outputs": [
    {
     "name": "stdout",
     "output_type": "stream",
     "text": [
      "The result is: 15\n"
     ]
    }
   ],
   "source": [
    "//  functions in rust\n",
    "fn add(x: i32, y: i32) -> i32 {      // function signature with return type i32 i is integer\n",
    "    x + y\n",
    "}\n",
    "\n",
    "let result = add(5, 10);\n",
    "println!(\"The result is: {}\", result);\n",
    "\n",
    "\n",
    "//  functions with return type\n",
    "fn add(x: i32, y: i32) -> i32 {\n",
    "    x + y\n",
    "}\n"
   ]
  },
  {
   "cell_type": "code",
   "execution_count": 8,
   "metadata": {},
   "outputs": [
    {
     "name": "stdout",
     "output_type": "stream",
     "text": [
      "The result is: 15\n"
     ]
    }
   ],
   "source": [
    "//  is rust have return type\n",
    "fn add(x: i32, y: i32) -> i32 {\n",
    "    return x + y;\n",
    "}\n",
    "let result = add(5, 10);\n",
    "println!(\"The result is: {}\", result);"
   ]
  },
  {
   "cell_type": "code",
   "execution_count": 9,
   "metadata": {},
   "outputs": [
    {
     "name": "stdout",
     "output_type": "stream",
     "text": [
      "The name is: John\n",
      "The age is: 25\n"
     ]
    }
   ],
   "source": [
    "//  is rust support oops concept?\n",
    "//  yes, rust support oops concept\n",
    "//  rust support object oriented programming\n",
    "// rust support class, object, \n",
    "//  rust support inheritance, encapsulation, polymorphism, abstraction\n",
    "//  rust support struct, enum, trait, impl, etc.\n",
    "\n",
    "//  create  a class in rust\n",
    "struct Person {           //  struct is a class in rust | Person is a class name\n",
    "    name: String,\n",
    "    age: i32,\n",
    "}\n",
    "\n",
    "//  create a object of Person class\n",
    "let person = Person {\n",
    "    name: String::from(\"John\"),\n",
    "    age: 25,\n",
    "};\n",
    "\n",
    "//  access the class properties\n",
    "println!(\"The name is: {}\", person.name);\n",
    "println!(\"The age is: {}\", person.age);"
   ]
  },
  {
   "cell_type": "code",
   "execution_count": 10,
   "metadata": {},
   "outputs": [
    {
     "name": "stdout",
     "output_type": "stream",
     "text": [
      "The value of arr is: [1, 2, 3, 4, 5]\n",
      "The value of arr is: [[1, 2, 3], [4, 5, 6], [7, 8, 9]]\n",
      "The value of arr is: [[[1, 2, 3], [4, 5, 6], [7, 8, 9]], [[10, 11, 12], [13, 14, 15], [16, 17, 18]], [[19, 20, 21], [22, 23, 24], [25, 26, 27]]]\n",
      "The value of vec is: [1, 2, 3, 4, 5]\n",
      "The value of vec is: [[1, 2, 3], [4, 5, 6], [7, 8, 9]]\n",
      "The value of vec is: [[[1, 2, 3], [4, 5, 6], [7, 8, 9]], [[10, 11, 12], [13, 14, 15], [16, 17, 18]], [[19, 20, 21], [22, 23, 24], [25, 26, 27]]]\n"
     ]
    }
   ],
   "source": [
    "// create 1d array in rust \n",
    "let arr = [1, 2, 3, 4, 5];\n",
    "println!(\"The value of arr is: {:?}\", arr);\n",
    "\n",
    "// create 2d array in rust\n",
    "let arr = [[1, 2, 3], [4, 5, 6], [7, 8, 9]];\n",
    "println!(\"The value of arr is: {:?}\", arr);\n",
    "\n",
    "// create 3d array in rust\n",
    "let arr = [[[1, 2, 3], [4, 5, 6], [7, 8, 9]], [[10, 11, 12], [13, 14, 15], [16, 17, 18]], [[19, 20, 21], [22, 23, 24], [25, 26, 27]]];\n",
    "println!(\"The value of arr is: {:?}\", arr);\n",
    "\n",
    "//  create a vector in rust\n",
    "let vec = vec![1, 2, 3, 4, 5];\n",
    "println!(\"The value of vec is: {:?}\", vec);\n",
    "\n",
    "//  create a 2d vector in rust\n",
    "let vec = vec![vec![1, 2, 3], vec![4, 5, 6], vec![7, 8, 9]];\n",
    "println!(\"The value of vec is: {:?}\", vec);\n",
    "\n",
    "//  create a 3d vector in rust\n",
    "let vec = vec![vec![vec![1, 2, 3], vec![4, 5, 6], vec![7, 8, 9]], vec![vec![10, 11, 12], vec![13, 14, 15], vec![16, 17, 18]], vec![vec![19, 20, 21], vec![22, 23, 24], vec![25, 26, 27]]];\n",
    "println!(\"The value of vec is: {:?}\", vec);"
   ]
  },
  {
   "cell_type": "code",
   "execution_count": 11,
   "metadata": {},
   "outputs": [
    {
     "name": "stdout",
     "output_type": "stream",
     "text": [
      "1 2 3 \n",
      "4 5 6 \n",
      "7 8 9 \n"
     ]
    }
   ],
   "source": [
    "// create matrix in rust\n",
    "let matrix = vec![vec![1, 2, 3], vec![4, 5, 6], vec![7, 8, 9]];\n",
    "for i in matrix.iter() {\n",
    "    for j in i.iter() {\n",
    "        print!(\"{} \", j);\n",
    "    }\n",
    "    println!();\n",
    "};"
   ]
  },
  {
   "cell_type": "code",
   "execution_count": 12,
   "metadata": {},
   "outputs": [
    {
     "name": "stdout",
     "output_type": "stream",
     "text": [
      "H\n",
      "e\n",
      "l\n",
      "l\n",
      "o\n",
      ",\n",
      " \n",
      "W\n",
      "o\n",
      "r\n",
      "l\n",
      "d\n",
      "!\n"
     ]
    }
   ],
   "source": [
    "let a = \"Hello, World!\";\n",
    "for i in a.chars() {\n",
    "    println!(\"{}\", i);\n",
    "};"
   ]
  },
  {
   "cell_type": "code",
   "execution_count": null,
   "metadata": {},
   "outputs": [],
   "source": []
  },
  {
   "cell_type": "code",
   "execution_count": 13,
   "metadata": {},
   "outputs": [
    {
     "name": "stdout",
     "output_type": "stream",
     "text": [
      "The sum is: 15\n",
      "The subtract is: -15\n",
      "The multiply is: [2, 4, 6, 8, 10]\n"
     ]
    }
   ],
   "source": [
    "//  array of operations in rust\n",
    "let arr = [1, 2, 3, 4, 5];\n",
    "//  sum of array\n",
    "let sum: i32 = arr.iter().sum();\n",
    "println!(\"The sum is: {}\", sum);\n",
    "\n",
    "//  subtract of array\n",
    "let sub: i32 = arr.iter().fold(0, |acc, x| acc - x);\n",
    "println!(\"The subtract is: {}\", sub);\n",
    "\n",
    "//  multiply of array by 2\n",
    "let mul: Vec<i32> = arr.iter().map(|x| x * 2).collect();  // vec is a vector | map is a function used to iterate the array | collect is a function used to collect the result\n",
    "println!(\"The multiply is: {:?}\", mul);"
   ]
  },
  {
   "cell_type": "code",
   "execution_count": 14,
   "metadata": {},
   "outputs": [
    {
     "name": "stdout",
     "output_type": "stream",
     "text": [
      "The sum by axis 0 is: [4, 7]\n"
     ]
    }
   ],
   "source": [
    "// in python numpy arr = [[1,3],\n",
    " //                       [2 5] ]  when we sum by axis 0 it will sum row 1+2 = 3, 3+5 = 8 and when we sum by axis 1 it will sum column 1+3 = 4, 2+5 = 7\n",
    " // if we  same in rust\n",
    "    let arr = vec![vec![1, 3], vec![2, 5]];\n",
    "    let sum_axis_0: Vec<i32> = arr.iter().map(|x| x.iter().sum()).collect();\n",
    "    println!(\"The sum by axis 0 is: {:?}\", sum_axis_0);\n",
    "   //  println!(\"The sum by axis 1 is: {:?}\", arr.iter().fold(vec![0; arr[0].len()], |acc, x| acc.iter().zip(x.iter()).map(|(a, b)| a + b).collect::<Vec<i32>>());"
   ]
  },
  {
   "cell_type": "code",
   "execution_count": 15,
   "metadata": {},
   "outputs": [],
   "source": [
    "//  i thinkr rust is not very tough to learn but it is very powerful language to learn\n",
    "//  rust is a system programming language\n",
    "//  rust is a fast, reliable, and efficient language\n",
    "//  rust is a modern language with modern features like oops, functional, procedural, etc.\n",
    "//  rust is a memory safe language with no garbage collector \n",
    "//  rust is a statically typed language\n",
    "//  rust is a compiled language  \n",
    "//  rust is a open source language\n",
    "//  rust is a community driven language\n",
    "//  rust is a language developed by Mozilla Foundation \n",
    "//  rust is a language developed by Graydon Hoare in 2010  he is a computer scientist \n",
    "//  rust is a language developed by Mozilla Research \n",
    "//  rust is a language developed by Mozilla Corporation\n",
    "//  rust is a language developed by Mozilla Community\n",
    "//  rust is a language developed by Mozilla Developer Network  \n",
    "\n",
    "\n",
    "// usage of rust language in different fields\n",
    "//  rust is used in web development (backend)[rocket, actix-web, warp, tide, xitrum, etc.]\n",
    "//  rust is used in web development (frontend)[yew, seed, etc.]\n",
    "\n",
    "//  rust is used in game development [amethyst, ggez, bevy, etc.] \n",
    "//  rust is used in mobile development [flutter, etc.]\n",
    "\n",
    "//  rust is used in desktop development [gtk, druid, iced, etc.]\n",
    "\n",
    "//  rust is used in system programming [os, kernel, etc.]\n",
    "\n",
    "//  rust is used in cloud computing [aws, azure, gcp, etc.]\n",
    "\n",
    "//  rust is used in machine learning [tch-rs,or rustlearn, or rusty-machine, or leaf, or tract, or rust-nn etc.]\n",
    "\n",
    "//  rust is used in data science [ndarray, or csv, or polars, or datafusion, or arrow, or rustlearn, or rusty-machine, or leaf, or tract, or rust-nn etc.]\n",
    "\n",
    "//  rust is used in artificial intelligence [tch-rs, or rustlearn, or rusty-machine, or leaf, or tract, or rust-nn etc.]\n",
    "\n",
    "//  rust is used in iot [iotedge, or rumqtt, or rumq, or rumq-core, or rumq-tls, or rumq-async, or rumq-mqtt, or rumq-async-tls, or rumq-async-mqtt, or rumq-async-tls-mqtt etc.]\n",
    "\n",
    "//  rust is used in blockchain [parity, or substrate, or near, or solana, or libra, or diem, or libra-core, or diem-core, or libra-vm, or diem-vm, or libra-compiler, or diem-compiler, or libra-std, or diem-std etc.]\n",
    "\n",
    "//  rust is used in cryptography [rust-crypto, or ring, or secp256k1, or sodiumoxide, or rustls, or openssl, or libsodium, or orion, or orion-soft, or orion-soft-asm etc.]\n",
    "\n",
    "//  rust is used in networking [tokio, or async-std, or smol, or async-io, or async-io-async-std, or async-io-tokio, or async-io-smol, or async-io-async-std-tokio, or async-io-async-std-smol, or async-io-tokio-smol etc.]\n",
    "\n",
    "//  rust is used in operating system [redox, or tock, or zircon, or fuchsia, or linux, or windows, or macos, or ios, or android, or unix, or bsd, or solaris, or illumos, or openbsd, or freebsd, or netbsd, or dragonflybsd, or minix, or plan9, or inferno, or haiku, or reactos, or wine, or dos, or os2, or beos, or amigaos, or morphos, or arcaos, or aros, or skyos, or menuetos, or templeos, or kolibrios, or visopsys, or freevms, or openvms, or vms, or rtems, or vxworks, or qnx, or rtos, or micrium, or freertos, or zephyr, or contiki, or mbed, or embos, or uc-os, or chibios, or nuttx, or riot, or zephyr, or zephyr-rtos, or zephyr-rtos-rtos, or zephyr-rtos-rtos-rtos, or zephyr-rtos-rtos-rtos-rtos, or zephyr-rtos-rtos-rtos-rtos-rtos, or zephyr-rtos-rtos-rtos-rtos-rtos-rtos, or zephyr-rtos-rtos-rtos-rtos-rtos-rtos-rtos, or zephyr-rtos-rtos-rtos-rtos-rtos-rtos-rtos-rtos, or zephyr-rtos-rtos-rtos-rtos-rtos-rtos-rtos-rtos-rtos, or zephyr-rtos-rtos-rtos-rtos-rtos-rtos-rtos-rtos-rtos-rtos, or zephyr\n",
    "\n",
    "//  rust is used in embedded system [embedded-hal, or cortex-m, or stm32f4\n",
    "\n",
    "//  rust is used in cloud-native [kubernetes, or istio, or envoy, or prometheus, or grafana, or jaeger, or opentelemetry, or fluentd, or linkerd, or spinnaker, or helm, or harbor, or argo, or tekton, or knative, or openfaas, or keda, or riff, or kubeflow, or falco, or cilium, or calico, or flannel, or weave, or antrea, or metallb, or rook, or longhorn, or openebs, or minio, or ceph, or gluster, or vitess, or cockroach, or etcd, or consul, or vault, or nomad, or packer, or terraform, or ansible, or chef, or puppet, or salt, or jenkins, or drone, or tekton, or argo, or spinnaker, or concourse, or gitlab, or github, or bitbucket, or jfrog, or sonatype, or nexus, or harbor, or artifactory, or chartmuseum, or helm, or kustomize, or skaffold, or kaniko, or buildah, or podman, or docker, or containerd, or cri-o, or rkt, or kata, or firecracker, or gvisor, or nabla, or runsc, or faasd, or openfaas, or knative, or riff, or keda, or tekton, or argo, or spinnaker, or kubeflow, or falco, or cilium, or calico, or flannel, or weave, or antrea, or metallb, or rook, or longhorn, or openebs, or minio, or ceph, or gluster\n",
    "\n",
    "//  rust is used in devops [kubernetes, or istio, or envoy, or prometheus, or grafana, or jaeger, or opentelemetry, or fluentd, or linkerd, or spinnaker, or helm, or harbor, or argo, or tekton, or knative, or openfaas, or keda, or riff, or kubeflow, or falco, or cilium, or calico, or flannel, or weave, or antrea, or metallb, or rook, or longhorn, or openebs, or minio, or ceph, or gluster, or vitess, or cockroach, or etcd, or consul, or vault, or nomad, or packer, or terraform, or ansible, or chef, or puppet, or salt, or jenkins, or drone, or tekton, or argo, or spinnaker, or concourse, or gitlab, or github, or bitbucket, or jfrog, or sonatype, or nexus, or harbor, or artifactory, or chartmuseum, or helm, or kustomize, or skaffold, or kaniko, or buildah, or podman, or docker, or containerd, or cri-o, or rkt, or kata, or firecracker, or gvisor, or nabla, or runsc, or faasd, or openfaas, or knative, or riff, or keda, or tekton, or argo, or spinnaker, or kubeflow, or falco, or cilium, or calico, or flannel, or weave, or antrea, or metallb, or rook, or longhorn, or openebs, or minio, or ceph, or gluster\n",
    "\n",
    "//  rust is used in cloud security [falco, or cilium, or calico, or flannel, or weave, or antrea, or metallb, or rook, or longhorn, or openebs, or minio, or ceph, or gluster, or vitess, or cockroach, or etcd, or consul, or vault, or nomad, or packer, or terraform, or ansible, or chef, or puppet, or salt, or jenkins, or drone, or tekton, or argo, or spinnaker, or concourse, or gitlab, or github, or bitbucket, or jfrog, or sonatype, or nexus, or harbor, or artifactory, or chartmuseum, or helm, or kustomize, or skaffold, or kaniko, or buildah, or podman, or docker, or containerd, or cri-o, or rkt, or kata, or firecracker, or gvisor, or nabla, or runsc, or faasd, or openfaas, or knative, or riff, or keda, or tekton, or argo, or spinnaker, or kubeflow, or falco, or cilium, or calico, or flannel, or weave, or antrea, or metallb, or rook, or longhorn, or openebs, or minio, or ceph, or gluster\n",
    "\n",
    "\n",
    "\n",
    "//  rust is used in cloud storage [minio, or ceph, or gluster, or vitess, or cockroach, or etcd, or consul, or vault, or nomad, or packer, or terraform, or ansible, or chef, or puppet, or salt, or jenkins, or drone, or tekton, or argo, or spinnaker, or concourse, or gitlab, or github, or bitbucket, or jfrog, or sonatype, or nexus, or harbor, or artifactory, or chartmuseum, or helm, or kustomize, or skaffold, or kaniko, or buildah, or podman, or docker, or containerd, or cri-o, or rkt, or kata, or firecracker, or gvisor, or nabla, or runsc, or faasd, or openfaas, or knative, or riff, or keda, or tekton, or argo, or spinnaker, or kubeflow, or falco, or cilium, or calico, or flannel, or weave, or antrea, or metallb, or rook, or longhorn, or openebs, or minio, or ceph, or gluster\n",
    "\n",
    "// rust is used in cloud database [vitess, or cockroach, or etcd, or consul, or vault, or nomad, or packer, or terraform, or ansible, or chef, or puppet, or salt, or jenkins, or drone, or tekton, or argo, or spinnaker, or concourse, or gitlab, or github, or bitbucket, or jfrog, or sonatype, or nexus, or harbor, or artifactory, or chartmuseum, or helm, or kustomize, or skaffold, or kaniko, or buildah, or podman, or docker, or containerd, or cri-o, or rkt, or kata, or firecracker, or gvisor, or nabla, or runsc, or faasd, or openfaas, or knative, or riff, or keda, or tekton, or argo, or spinnaker, or kubeflow, or falco, or cilium, or calico, or flannel, or weave, or antrea, or metallb, or rook, or longhorn, or openebs, or minio, or ceph, or gluster\n",
    "\n",
    "// rust is deep learning [tch-rs, or rustlearn, or rusty-machine, or leaf, or tract, or rust-nn etc.]\n",
    "\n",
    "// rust is used NLP [tch-rs, or rustlearn, or rusty-machine, or leaf, or tract, or rust-nn etc.]\n",
    "\n",
    "// rust is used in computer vision [tch-rs, or rustlearn, or rusty-machine, or leaf, or tract, or rust-nn etc.]\n",
    "\n",
    "// rust is used in robotics [tch-rs, or rustlearn, or rusty-machine, or leaf, or tract, or rust-nn etc.]\n",
    "\n",
    "\n",
    "\n",
    "\n",
    "\n",
    "\n",
    "\n",
    "\n",
    "\n",
    "\n",
    "\n",
    "\n"
   ]
  },
  {
   "cell_type": "code",
   "execution_count": null,
   "metadata": {},
   "outputs": [],
   "source": []
  }
 ],
 "metadata": {
  "kernelspec": {
   "display_name": "Rust",
   "language": "rust",
   "name": "rust"
  },
  "language_info": {
   "codemirror_mode": "rust",
   "file_extension": ".rs",
   "mimetype": "text/rust",
   "name": "rust",
   "pygment_lexer": "rust",
   "version": ""
  }
 },
 "nbformat": 4,
 "nbformat_minor": 2
}
