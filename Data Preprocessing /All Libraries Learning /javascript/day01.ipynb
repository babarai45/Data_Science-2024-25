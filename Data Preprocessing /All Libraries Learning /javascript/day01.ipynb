{
 "cells": [
  {
   "cell_type": "markdown",
   "id": "9500e802-dd69-4a75-8486-957945b6dadf",
   "metadata": {},
   "source": [
    "# java script "
   ]
  },
  {
   "cell_type": "code",
   "execution_count": 2,
   "id": "00502a62-8652-4af3-a885-4fcd33cdf8a1",
   "metadata": {},
   "outputs": [
    {
     "name": "stdout",
     "output_type": "stream",
     "text": [
      "[ \u001b[33m1\u001b[39m, \u001b[33m2\u001b[39m, \u001b[33m3\u001b[39m, \u001b[33m4\u001b[39m, \u001b[33m5\u001b[39m ]\n"
     ]
    }
   ],
   "source": [
    "// create an array in javascript\n",
    "let arr = [1, 2, 3, 4, 5];\n",
    "\n",
    "// log the array to the console\n",
    "console.log(arr);"
   ]
  },
  {
   "cell_type": "code",
   "execution_count": null,
   "id": "1a38da25-1c86-452b-8d21-c0328ed73092",
   "metadata": {},
   "outputs": [],
   "source": []
  }
 ],
 "metadata": {
  "kernelspec": {
   "display_name": "JavaScript",
   "language": "javascript",
   "name": "jslab"
  },
  "language_info": {
   "file_extension": ".js",
   "mimetype": "text/javascript",
   "name": "javascript",
   "version": ""
  }
 },
 "nbformat": 4,
 "nbformat_minor": 5
}
