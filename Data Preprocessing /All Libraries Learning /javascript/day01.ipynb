{
 "cells": [
  {
   "cell_type": "markdown",
   "id": "9500e802-dd69-4a75-8486-957945b6dadf",
   "metadata": {},
   "source": [
    "# java script "
   ]
  },
  {
   "cell_type": "code",
   "execution_count": 2,
   "id": "00502a62-8652-4af3-a885-4fcd33cdf8a1",
   "metadata": {},
   "outputs": [
    {
     "name": "stdout",
     "output_type": "stream",
     "text": [
      "[ 1, 2, 3, 4, 5 ]\n"
     ]
    }
   ],
   "source": [
    "// create an array in javascript\n",
    "let arr = [1, 2, 3, 4, 5];\n",
    "\n",
    "// log the array to the console\n",
    "console.log(arr);"
   ]
  },
  {
   "cell_type": "code",
   "execution_count": null,
   "id": "1a38da25-1c86-452b-8d21-c0328ed73092",
   "metadata": {},
   "outputs": [
    {
     "name": "stdout",
     "output_type": "stream",
     "text": [
      "42\n",
      "hello\n",
      "true\n",
      "null\n"
     ]
    }
   ],
   "source": [
    "//  introduction javascript learn programming\n",
    "//  javascript programming language\n",
    "\n",
    "//  javascript programming language\n",
    "//  javascript programming language is used to create interactive effects within web browsers. \n",
    "//  javascript is a high-level, interpreted programming language that conforms to the ECMAScript specification(https://www.ecma-international.org/publications/standards/Ecma-262.htm).\n",
    "//  javascript has curly-bracket syntax, dynamic typing, prototype-based object-orientation, and first-class functions.\n",
    "//  along with HTML and CSS, javascript is one of the core technologies of the World Wide Web.\n",
    "//  javascript enables interactive web pages and is an essential part of web applications.\n",
    "//  the vast majority of websites use it, and major web browsers have a dedicated javascript engine to execute it.\n",
    "//  as a multi-paradigm language, javascript supports event-driven, functional, and imperative programming styles.\n",
    "//  it has application programming interfaces(APIs) for working with text, dates, regular expressions, standard data structures, and the Document Object Model(DOM).\n",
    "//  however, the language itself does not include input/output(I/O), such as networking, storage, or graphics facilities, as the host environment(in a browser) provides those APIs.\n",
    "//  javascript engines were originally used only in web browsers, but they are now core components of other software systems, most notably servers and a variety of applications.\n",
    "//  the terms Vanilla javascript and Vanilla JS refer to javascript not extended by any frameworks or additional libraries.\n",
    "\n",
    "//  javascript programming language syntax\n",
    "//  javascript is a case-sensitive language.\n",
    "//  statements are terminated by a semicolon.\n",
    "//  blocks are denoted by curly brackets.\n",
    "//  comments can be single-line or multi-line.\n",
    "//  variables are declared using the var, let, or const keywords.\n",
    "//  variables are assigned using the = operator.\n",
    "//  functions are declared using the function keyword.\n",
    "//  functions can be anonymous.\n",
    "//  functions can be assigned to variables.\n",
    "//  functions can be passed as arguments to other functions.\n",
    "//  functions can return values.\n",
    "//  objects are created using curly brackets.\n",
    "//  object properties can be accessed using dot notation or bracket notation.\n",
    "\n",
    "\n",
    "//  javascript programming language data types\n",
    "\n",
    "//  javascript has several primitive data types:\n",
    "//  number: a numeric data type.\n",
    "//  string: a sequence of characters.\n",
    "//  boolean: a logical data type.\n",
    "//  null: a special keyword denoting a null value.\n",
    "//  undefined: a special keyword denoting an undefined value.\n",
    "//  symbol: a unique and immutable value.\n",
    "//  bigint: a numeric data type for integers of arbitrary length.\n",
    "//  and one complex data type:\n",
    "//  object: a data type that is not primitive.\n",
    "//  javascript also has several built-in objects:\n",
    "//  array: a data structure for storing multiple values.\n",
    "//  date: a data structure for storing dates and times.\n",
    "//  map: a data structure for storing key-value pairs.\n",
    "//  set: a data structure for storing unique values.\n",
    "//  and others.\n",
    "\n",
    "//  Example of javascript data types\n",
    "\n",
    "//  number\n",
    "let num = 42; // a number\n",
    "console.log(num);\n",
    "\n",
    "//  string\n",
    "let str = 'hello'; // a string\n",
    "console.log(str);\n",
    "\n",
    "//  boolean\n",
    "let bool = true; // a boolean\n",
    "console.log(bool);\n",
    "\n",
    "//  null\n",
    "let n = null; // a null value\n",
    "console.log(n);\n",
    "\n",
    "// undefined \n"
   ]
  },
  {
   "cell_type": "code",
   "execution_count": 4,
   "id": "5494edf5",
   "metadata": {},
   "outputs": [
    {
     "name": "stdout",
     "output_type": "stream",
     "text": [
      "6\n"
     ]
    }
   ],
   "source": [
    "// \n",
    "function add(a,b){\n",
    "    return  a+b\n",
    "}\n",
    "add(2,4)"
   ]
  },
  {
   "cell_type": "code",
   "execution_count": null,
   "id": "ff579ab5",
   "metadata": {},
   "outputs": [],
   "source": []
  }
 ],
 "metadata": {
  "kernelspec": {
   "display_name": "JavaScript",
   "language": "javascript",
   "name": "jslab"
  },
  "language_info": {
   "file_extension": ".js",
   "mimetype": "text/javascript",
   "name": "javascript",
   "version": ""
  }
 },
 "nbformat": 4,
 "nbformat_minor": 5
}
