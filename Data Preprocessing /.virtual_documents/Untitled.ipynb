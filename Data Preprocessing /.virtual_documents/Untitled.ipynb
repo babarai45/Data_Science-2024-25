import numpy as np
import pandas as pd


df = pd.read_csv("Datasets /homelessness_data.csv")


df


df['individuals'].mean()


df.isnull().sum()


df['individuals'].isnull



